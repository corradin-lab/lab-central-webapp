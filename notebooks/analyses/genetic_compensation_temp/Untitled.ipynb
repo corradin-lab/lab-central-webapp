{
 "cells": [
  {
   "cell_type": "code",
   "execution_count": null,
   "id": "2fffc8b6-3517-4355-9a16-520c7ab7bbe0",
   "metadata": {},
   "outputs": [],
   "source": [
    "import pandas as pd"
   ]
  },
  {
   "cell_type": "code",
   "execution_count": null,
   "id": "a85287a7-0aa1-4d29-8d0b-6229e9ebb31f",
   "metadata": {},
   "outputs": [],
   "source": [
    "pd.read_excel(\"/Users/ahoang/Downloads/Table_K-R.xlsx\", skiprows=range(11)).sort_values([\"Chromosome\", \"Start1\", \"End1\"]).to_csv(\"/Users/ahoang/Downloads/Rao_Cell_2014_K562_HiCCUPS.tsv\", sep = \"\\t\", index = False)\n",
    "pd.read_excel(\"/Users/ahoang/Downloads/Table_K-R.xlsx\", sheet_name= \"ChIA_PET_H3K27ac\", skiprows=range(10)).sort_values([\"Chromosome\", \"Start1\", \"End1\"]).to_csv(\"/Users/ahoang/Downloads/Heidari_Genome Res_2014_K562_ChIAPET_H3K27ac.tsv\", sep = \"\\t\", index = False)\n",
    "pd.read_excel(\"/Users/ahoang/Downloads/Table_K-R.xlsx\", sheet_name= \"ChIA_PET_Pol2\", skiprows=range(15))[[\"Chromosome\", \"Start1\", \"End1\", \"Start2\", \"End2\"]].sort_values([\"Chromosome\", \"Start1\", \"End1\"]).to_csv(\"/Users/ahoang/Downloads/Heidari_Genome Res_2014_K562_ChIAPET_Pol2.tsv\", sep = \"\\t\", index = False)\n"
   ]
  }
 ],
 "metadata": {
  "kernelspec": {
   "display_name": "Python 3 (ipykernel)",
   "language": "python",
   "name": "python3"
  }
 },
 "nbformat": 4,
 "nbformat_minor": 5
}
