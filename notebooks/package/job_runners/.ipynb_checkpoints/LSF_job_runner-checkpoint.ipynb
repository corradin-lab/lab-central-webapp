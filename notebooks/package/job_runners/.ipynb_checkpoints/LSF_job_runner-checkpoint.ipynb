{
 "cells": [
  {
   "cell_type": "code",
   "execution_count": 73,
   "id": "71ae3e30-a708-4b23-8d9e-1e4eb98ee8c7",
   "metadata": {
    "execution": {
     "iopub.execute_input": "2023-01-12T13:26:27.258652Z",
     "iopub.status.busy": "2023-01-12T13:26:27.257920Z",
     "iopub.status.idle": "2023-01-12T13:26:27.265652Z",
     "shell.execute_reply": "2023-01-12T13:26:27.264102Z",
     "shell.execute_reply.started": "2023-01-12T13:26:27.258586Z"
    },
    "tags": []
   },
   "outputs": [],
   "source": [
    "#| default_exp job_runners.LSF"
   ]
  },
  {
   "cell_type": "code",
   "execution_count": 97,
   "id": "fbff9159-0b89-4e12-8687-6358ad9e997d",
   "metadata": {
    "execution": {
     "iopub.execute_input": "2023-01-12T16:31:53.606719Z",
     "iopub.status.busy": "2023-01-12T16:31:53.606085Z",
     "iopub.status.idle": "2023-01-12T16:31:53.733807Z",
     "shell.execute_reply": "2023-01-12T16:31:53.732116Z",
     "shell.execute_reply.started": "2023-01-12T16:31:53.606659Z"
    },
    "tags": []
   },
   "outputs": [],
   "source": [
    "#| export\n",
    "from pydantic import BaseModel, PrivateAttr\n",
    "from typing import List\n",
    "from fastcore.meta import delegates\n",
    "from fastcore.basics import basic_repr\n",
    "#from prefect_shell import shell_run_command\n",
    "from prefect import flow\n",
    "# from corradin_ovp_utils.prefect_flows.step1 import SNPPairInfo\n",
    "from rich.logging import logging\n",
    "import subprocess\n",
    "from subprocess import Popen, PIPE\n",
    "import re\n",
    "import pandas as pd\n",
    "from datetime import datetime\n",
    "import os\n",
    "from pathlib import Path\n",
    "from tqdm.auto import tqdm"
   ]
  },
  {
   "cell_type": "code",
   "execution_count": 71,
   "id": "07f16ee8-a477-4531-af4b-f25549700cb5",
   "metadata": {
    "execution": {
     "iopub.execute_input": "2023-01-12T13:21:34.039072Z",
     "iopub.status.busy": "2023-01-12T13:21:34.038469Z",
     "iopub.status.idle": "2023-01-12T13:21:34.047611Z",
     "shell.execute_reply": "2023-01-12T13:21:34.046027Z",
     "shell.execute_reply.started": "2023-01-12T13:21:34.039013Z"
    },
    "tags": []
   },
   "outputs": [],
   "source": [
    "#| export\n",
    "\n",
    "def fix_submit_time_format(row):\n",
    "    submit_time = (\"-\").join(row[-3:])\n",
    "    new_row = row[:-3] + [submit_time]\n",
    "    return new_row"
   ]
  },
  {
   "cell_type": "code",
   "execution_count": 124,
   "id": "9ef46a4f-251f-4e86-b61c-cbe610299787",
   "metadata": {
    "execution": {
     "iopub.execute_input": "2023-01-30T07:45:44.197024Z",
     "iopub.status.busy": "2023-01-30T07:45:44.196292Z",
     "iopub.status.idle": "2023-01-30T07:45:44.255851Z",
     "shell.execute_reply": "2023-01-30T07:45:44.254187Z",
     "shell.execute_reply.started": "2023-01-30T07:45:44.196961Z"
    },
    "tags": []
   },
   "outputs": [],
   "source": [
    "#| export\n",
    "\n",
    "valid_attributes = [\"queue_name\", \"job_group\", \"dry_run\", \"n_cpus\", \"email\"]\n",
    "\n",
    "class JobRunnerGeneralClass:\n",
    "    pass\n",
    "\n",
    "class LSFJobRunner(JobRunnerGeneralClass):\n",
    "    \"\"\"\n",
    "    valid_attributes = [\"queue_name\", \"job_group\", \"dry_run\", \"n_cpus\", \"email\"]\n",
    "    \"\"\"\n",
    "    __repr__ = basic_repr(\"submit_command\")\n",
    "    \n",
    "    def __init__(self, **kwargs):\n",
    "        for attr_name in valid_attributes:\n",
    "            setattr(self, f\"_{attr_name}\", None)\n",
    "        for attr_name, attr_val in kwargs.items():\n",
    "            if attr_name in valid_attributes:\n",
    "                setattr(self, f\"_{attr_name}\", attr_val)\n",
    "            else:\n",
    "                raise ValueError(\"Unrecognized attribute: \", attr_name)\n",
    "    \n",
    "    def create_LSF_command(self, queue_name = None, job_group = None, n_cpus=None, email=None):\n",
    "        flag_list = [self.create_queue_flag(queue_name),\n",
    "                     self.create_job_group_flag(job_group),\n",
    "                     self.create_n_cpus_flag(n_cpus),\n",
    "                     self.create_email_flag(email)]\n",
    "        if not self.create_queue_flag(queue_name):\n",
    "            raise ValueError(\"Must specify `queue_name` either in runner object or as argument in run function\")\n",
    "            \n",
    "        all_processed_flags = [flag for flag in flag_list if flag]\n",
    "        full_LSF_command = f\"{self._base_command} {(' ').join(all_processed_flags)}\" \n",
    "        return full_LSF_command\n",
    "    \n",
    "    @property\n",
    "    def submit_command(self):\n",
    "        return self.create_LSF_command()\n",
    "        \n",
    "    @property\n",
    "    def _base_command(self):\n",
    "        return \"bsub\"\n",
    "        \n",
    "    def create_queue_flag(self, queue_name = None):\n",
    "        queue = self._check_runtime_option(queue_name,self._queue_name)\n",
    "        return self.create_option_str(\"-q\", queue)\n",
    "    \n",
    "    def create_email_flag(self, email = None):\n",
    "        email = self._check_runtime_option(email, self._email)\n",
    "        if email:\n",
    "            return f\"-u {email}\"\n",
    "        else:\n",
    "            return \"-o /dev/null -e /dev/null\"\n",
    "    \n",
    "    def create_n_cpus_flag(self, n_cpus = None):\n",
    "        n_cpus = self._check_runtime_option(n_cpus, self._n_cpus)\n",
    "        return self.create_option_str(\"-n\", n_cpus)\n",
    "    \n",
    "    \n",
    "    def create_job_group_flag(self, job_group = None):\n",
    "        job_group = self._check_runtime_option(job_group,self._job_group)\n",
    "        return self.create_option_str(\"-g\", job_group)\n",
    "                              \n",
    "        \n",
    "    def _check_runtime_option(self, runtime_val, default_val):\n",
    "        if runtime_val is not None:\n",
    "            val = runtime_val\n",
    "        else:\n",
    "            val = default_val\n",
    "        return val\n",
    "                              \n",
    "    def create_option_str(self, flag, val, default_return_val = None):\n",
    "        if val is None:\n",
    "            if default_return_val:\n",
    "                return default_return_val\n",
    "            else:\n",
    "                return \"\"\n",
    "        else:\n",
    "            return f\"{flag} {val}\"\n",
    "        \n",
    "    @delegates(create_LSF_command)    \n",
    "    def run(self, job, dry_run=True, **kwargs):\n",
    "        \"\"\"\n",
    "        Queue this job in LSF.\n",
    "        :param job: The Job object containing the command we want to run.\n",
    "        :return: job\n",
    "        \"\"\"\n",
    "#         if job.command is None:\n",
    "#             raise ValueError(\"Job command cannot be None. Please check rendered_command method or your input\")\n",
    "\n",
    "#         filled_outside_folder_struct = self.outside_folder_struct_template.format(GWAS_rsid=job.rsid_pair[0], outside_rsid=job.rsid_pair[1])\n",
    "#         # save template for debugging using email\n",
    "#         #-o {filled_outside_folder_struct}/myStdOut.out -e {filled_outside_folder_struct}/myStdErr.err\n",
    "\n",
    "#         #save template for putting error in outside folder\n",
    "#         #cmd = \"bsub -o /dev/null -e {filled_outside_folder_struct}/myStdErr.err -q {queue_name} -g {job_group} -J {job_name} {job_command}\".format(filled_outside_folder_struct=filled_outside_folder_struct,queue_name = self.queue_name, job_group=self.job_group, job_name=job.name, rsid_pair=job.rsid_pair, job_command=job.command)\n",
    "\n",
    "#         cmd = \"bsub -o /dev/null -e /lab/corradin_biobank/FOR_AN/OVP/lsf_jobs_err_files/%J -q {queue_name} -g {job_group} -J {job_name} {job_command}\".format(filled_outside_folder_struct=filled_outside_folder_struct,queue_name = self.queue_name, job_group=self.job_group, job_name=job.name, rsid_pair=job.rsid_pair, job_command=job.command)\n",
    "\n",
    "#         logging.info(\"RUN: %s\" % cmd)\n",
    "#         bsub_output = subprocess.check_output(cmd, shell=True)\n",
    "#         print(bsub_output)\n",
    "#         job.jobid = self.__parse_jobid(str(bsub_output))\n",
    "#         job.status = \"running\"\n",
    "#         return job\n",
    "\n",
    "        if isinstance(job, str):\n",
    "            job = Job(command = job, runner= self)\n",
    "            \n",
    "        if job.command is None:\n",
    "            raise ValueError(\"Job command cannot be None. Please check rendered_command method or your input\")\n",
    "        if job.command.split(\" \")[0] != \"bsub\":\n",
    "            if job.job_name:\n",
    "                cmd = f\"{self.create_LSF_command(**kwargs)} -J {job.job_name} {job.command}\"\n",
    "            else:\n",
    "                cmd = f\"{self.create_LSF_command(**kwargs)} {job.command}\"\n",
    "        else:\n",
    "            cmd = job.command\n",
    "            \n",
    "        logging.info(\"RUN: %s\" % cmd)\n",
    "        job.command = cmd\n",
    "        job.runner = self\n",
    "        \n",
    "        if not dry_run:\n",
    "            bsub_output = subprocess.check_output(cmd, shell=True)\n",
    "            print(bsub_output)\n",
    "            job.jobid = self.__parse_jobid(str(bsub_output))\n",
    "            job.status\n",
    "            #job.status = \"running\"\n",
    "        return job\n",
    "    \n",
    "    #@classmethod\n",
    "    def check_job_status(self, job):\n",
    "        \"\"\"\n",
    "        Determine the job status from LSF.\n",
    "        :param jobid:\n",
    "        :return: \"running\" | \"complete\" | \"failed\" | \"unknown\"\n",
    "        \"\"\"\n",
    "        \n",
    "        jobid = job.jobid \n",
    "        # try:\n",
    "        bjobs_cmd = [\"bjobs\", jobid]\n",
    "        logging.info(\"\\tbjobs command: '%s'\" % bjobs_cmd)\n",
    "        p = Popen(bjobs_cmd, stdout=PIPE, stderr=PIPE)\n",
    "        bjobs_stdout, bjobs_stderr = p.communicate()\n",
    "        #bjobs_stdout = (stdout)\n",
    "        #bjobs_stderr = str(stderr)\n",
    "\n",
    "        logging.debug(\"\\tbjobs stdout: %s\" % (bjobs_stdout))\n",
    "        logging.debug(\"\\tbjobs stderr: %s\" % (bjobs_stderr))\n",
    "        if re.compile(\"Job <\\\\d+> is not found\").search(str(bjobs_stderr)) is None:\n",
    "            # Found in bjobs output\n",
    "            #lines = str(bjobs_stdout).split(\"\\\\n\")\n",
    "            lines = subprocess.run(f\"bjobs -w {jobid}\", shell=True, capture_output = True).stdout.decode().split(\"\\n\")#(, return_all = True)\n",
    "            lines = [[col for col in line.split(\" \") if col] for line in lines if line]\n",
    "            #print(lines)\n",
    "            header, *rows= lines\n",
    "            header += [\"Checked at\"]\n",
    "            rows = [fix_submit_time_format(row) + [datetime.now().strftime(\"%d/%m/%Y %H:%M:%S\")] for row in rows]\n",
    "            for i, row in enumerate(rows):\n",
    "                #print(row)\n",
    "                jobid, user, stat, queue, from_host, exec_host, *job_name, submit_time, checked_at = row\n",
    "                rows[i] = [jobid, user, stat, queue, from_host, exec_host, (\" \").join(job_name), submit_time, checked_at]\n",
    "                \n",
    "            status_df = pd.DataFrame(rows, columns = header)\n",
    "            \n",
    "            current_stat = status_df[\"STAT\"].item()\n",
    "            \n",
    "            if job.status_df is None: \n",
    "                job.status_df = status_df\n",
    "            else:\n",
    "                if job.status_df.tail(1)[\"STAT\"].item() != current_stat:\n",
    "                    job.status_df = pd.concat([job.status_df, status_df]).reset_index(drop=True)\n",
    "            logging.info(\"lines: %s\" %  lines)\n",
    "            logging.info(\"len lines: %d\" %  len(lines))\n",
    "            \n",
    "            if len(lines)>=2:\n",
    "                # JOBID   USER    STAT  QUEUE      FROM_HOST   EXEC_HOST   JOB_NAME   SUBMIT_TIME\n",
    "                # 5612457 andy    RUN   normal     tak4        it-c03b05   sleep 1000 Jan  8 15:46\n",
    "                # statline = str(lines[1])\n",
    "                # statline_arr = re.compile(\"\\s+\").split(statline)\n",
    "                # logging.debug(statline_arr)\n",
    "                # stat = statline_arr[2]\n",
    "                logging.debug(\"line1: %s\" % lines[1])\n",
    "                logging.debug(\"stat: %s\" % current_stat)\n",
    "                if current_stat == \"PEND\":\n",
    "                    return \"running\"\n",
    "                elif current_stat == \"RUN\":\n",
    "                    return \"running\"\n",
    "                elif current_stat == \"DONE\":\n",
    "                    return \"complete\"\n",
    "                elif current_stat == \"EXIT\":\n",
    "                    return \"failed\"\n",
    "        else:\n",
    "            # # Not found in bjobs output\n",
    "            # # Either too old or invalid id\n",
    "            # # check bhist\n",
    "            # logging.debug(\"\\tNot found with bjobs\")\n",
    "\n",
    "            # bhist_cmd = [\"bhist\", \"-b\", jobid]\n",
    "            # logging.debug(\"\\tbhist command: '%s'\" % bhist_cmd)\n",
    "            # p = Popen(bhist_cmd, stdout=PIPE, stderr=PIPE)\n",
    "            # stdout, stderr = p.communicate()\n",
    "            # bhist_stdout = str(stdout)\n",
    "            # bhist_stderr = str(stderr)\n",
    "            # logging.debug(\"\\tbhist stdout: %s\" % (bhist_stdout))\n",
    "            # logging.debug(\"\\tbhist stderr: %s\" % (bhist_stderr))\n",
    "\n",
    "            # if re.compile(\"Done successfully\\.\").search(bhist_stdout):\n",
    "            # \treturn \"complete\"\n",
    "            \n",
    "            logging.debug(\"\\tCannot find job in bjobs checking for \\'finished\\' file in job folder\")\n",
    "            job_file_path =  Path(job.file_path_to_check)\n",
    "            if job_file_path.exists() and job_file_path.is_file():\n",
    "                return \"complete\"\n",
    "            else:\n",
    "                return \"failed\"\n",
    "            \n",
    "#             logging.debug(\"\\tThe current folder is {}\".format(os.getcwd()))\n",
    "#             logging.debug(\"\\tThe job folder is {}\".format(job_folder))\n",
    "\n",
    "#             try:\n",
    "#                 with cd(job_folder):\n",
    "#                     if os.path.isfile(\"finished\"):\n",
    "#                         logging.debug(\"\\tfound file \\'finished\\'\")\n",
    "#                         return \"complete\"\n",
    "#                     else:\n",
    "#                         logging.debug(\"\\tcannot find file \\'finished\\' in directory {}. Marking job as failed\".format(\n",
    "#                             os.getcwd()))\n",
    "#                         return \"failed\"\n",
    "\n",
    "#             except FileNotFoundError:\n",
    "#                 logging.info(\"\\tin except clause b/c FileNotFoundError exception in check_job_status_function, returning failed\".format(\n",
    "#                     os.getcwd()))\n",
    "#                 return \"failed\"\n",
    "        # except FileNotFoundError:\n",
    "        # \t# Probably no bjobs.\n",
    "        # \tlogging.warn(\"\\tFileNotFound when checking status. Probably no bjobs command. Returning unknown\")\n",
    "        # \treturn \"unknown\"\n",
    "        # logging.warn(\"\\tUnhandled bjobs output. Returning unknown.\")\n",
    "        return \"unknown\"  # parse bstatus\n",
    "    def check_job_list_status(self, jobs, show_progress = True):\n",
    "        if show_progress:\n",
    "            for job in tqdm(jobs):\n",
    "                self.check_job_status(job)\n",
    "        else:\n",
    "            for job in jobs:\n",
    "                self.check_job_status(job)\n",
    "        return pd.concat([job.status_df.tail(1) for job in jobs])\n",
    "    \n",
    "    def __parse_jobid(self, bsub_output):\n",
    "        jobid = str(bsub_output).split(\" \")[1].strip(\"<>\")\n",
    "        return jobid\n",
    "\n",
    "    def cleanup_job(self, job):\n",
    "        cmd = f\"bkill {job.jobid}\"\n",
    "        print(cmd)\n",
    "        bsub_output = subprocess.check_output(cmd, shell=True)\n",
    "        print(bsub_output)\n",
    "\n",
    "class Job(BaseModel):\n",
    "    command: str = None\n",
    "    jobid: str = None\n",
    "    runner: JobRunnerGeneralClass = None\n",
    "    file_path_to_check: str = None\n",
    "    job_name: str = None\n",
    "    #status:str = None\n",
    "    status_df: pd.DataFrame = None #= PrivateAttr(default_factory= None)\n",
    "    retries:int = 0\n",
    "    _created_at: datetime = PrivateAttr(default_factory=datetime.now)\n",
    "    __repr__ = basic_repr(\"command, status, runner_cls, jobid, has_file_path\")\n",
    "\n",
    "    @property\n",
    "    def has_file_path(self):\n",
    "        if self.file_path_to_check is not None:\n",
    "            return True\n",
    "        else:\n",
    "            return False\n",
    "    \n",
    "    @property\n",
    "    def runner_cls(self):\n",
    "        return self.runner.__class__ if self.runner is not None else None\n",
    "    \n",
    "    def run(self, **kwargs):\n",
    "        \"\"\"\n",
    "        valid_attributes = [\"queue_name\", \"job_group\", \"dry_run\", \"n_cpus\", \"email\"]\n",
    "        \"\"\"\n",
    "        @delegates(self.runner.run)\n",
    "        def _run(**kwargs):\n",
    "            return self.runner.run(self, **kwargs)\n",
    "        return _run(**kwargs)\n",
    "    \n",
    "    def rerun(self):\n",
    "        self = Job(command = self.command,\n",
    "                   runner = self.runner,\n",
    "                   file_path_to_check=self.file_path_to_check,\n",
    "                   retries = self.retries + 1)\n",
    "    \n",
    "    @property\n",
    "    def status(self):\n",
    "        if self.jobid is None:\n",
    "            return \"Not submitted\"\n",
    "        else:\n",
    "            return self.runner.check_job_status(self)\n",
    "        \n",
    "    class Config:\n",
    "        arbitrary_types_allowed = True\n",
    "        \n",
    "        \n",
    "    def stub():\n",
    "        \"\"\"\n",
    "        This is just so we can subclass SimpleNamespace.\n",
    "        Do don't have any custom methods needed yet.\n",
    "        \"\"\"\n",
    "        return False\n"
   ]
  },
  {
   "cell_type": "code",
   "execution_count": 122,
   "id": "5606227a-c277-4a75-9cde-08a7653cb77a",
   "metadata": {
    "execution": {
     "iopub.execute_input": "2023-01-27T09:31:33.512156Z",
     "iopub.status.busy": "2023-01-27T09:31:33.511375Z",
     "iopub.status.idle": "2023-01-27T09:31:33.657447Z",
     "shell.execute_reply": "2023-01-27T09:31:33.655636Z",
     "shell.execute_reply.started": "2023-01-27T09:31:33.512088Z"
    },
    "tags": []
   },
   "outputs": [
    {
     "name": "stdout",
     "output_type": "stream",
     "text": [
      "7103184.tmpdir\t\t   pim.info.c2b9\n",
      "7107941.tmpdir\t\t   pip-uninstall-ozdhv20u\n",
      "7114287.tmpdir\t\t   python-languageserver-cancellation\n",
      "7114288.tmpdir\t\t   quarto-session5967e56f\n",
      "7114291.tmpdir\t\t   tmp19fp1s71\n",
      "copier.vcs.clone.evmgf6g_  tmp8shkicux\n",
      "libtpu_lockfile\t\t   tmpai2ld9k9\n",
      "outdated_cache_outdated    tmpuhd_xc6p\n",
      "outdated_cache_pingouin    vscode-typescript4638\n"
     ]
    }
   ],
   "source": [
    "!ls /tmp"
   ]
  },
  {
   "cell_type": "code",
   "execution_count": 112,
   "id": "5cc17ff1-9101-468a-b1de-efd323b3f44b",
   "metadata": {
    "execution": {
     "iopub.execute_input": "2023-01-27T09:29:39.482439Z",
     "iopub.status.busy": "2023-01-27T09:29:39.481747Z",
     "iopub.status.idle": "2023-01-27T09:29:39.524089Z",
     "shell.execute_reply": "2023-01-27T09:29:39.522403Z",
     "shell.execute_reply.started": "2023-01-27T09:29:39.482372Z"
    },
    "tags": []
   },
   "outputs": [
    {
     "data": {
      "text/plain": [
       "b'JOBID   USER    STAT  QUEUE      FROM_HOST   EXEC_HOST   JOB_NAME   SUBMIT_TIME\\n7107941 anhoang RUN   corradin   c2b9        c2b9        jupyter_lab_webapp Jan 12 07:48\\n'"
      ]
     },
     "execution_count": 112,
     "metadata": {},
     "output_type": "execute_result"
    }
   ],
   "source": [
    "test = subprocess.run(f\"rm -rf ~/tmp/\".split(\" \"), capture_output=True)\n",
    "test.stdout"
   ]
  },
  {
   "cell_type": "code",
   "execution_count": 13,
   "id": "e16cef65-641a-4652-bd91-a711420c90cf",
   "metadata": {
    "execution": {
     "iopub.execute_input": "2023-01-12T12:57:40.934756Z",
     "iopub.status.busy": "2023-01-12T12:57:40.933994Z",
     "iopub.status.idle": "2023-01-12T12:57:40.994731Z",
     "shell.execute_reply": "2023-01-12T12:57:40.992697Z",
     "shell.execute_reply.started": "2023-01-12T12:57:40.934689Z"
    },
    "tags": []
   },
   "outputs": [
    {
     "data": {
      "text/plain": [
       "CompletedProcess(args=['bjobs', '-w', '7107941'], returncode=0, stdout=b'JOBID   USER    STAT  QUEUE      FROM_HOST   EXEC_HOST   JOB_NAME   SUBMIT_TIME\\n6123600 anhoang RUN   corradin   c2b9        c3b1        *p 0.0.0.0 Jul  1 07:45\\n6257800 anhoang RUN   corradin   c2b9        c4b10       *o-browser Aug  4 20:44\\n7084129 anhoang RUN   all_corrad c2b9        c2b9        *p 0.0.0.0 Dec  8 14:19\\n7084523 anhoang RUN   corradin   c2b9        c2b9        *s_Jupyter Dec  9 09:38\\n7103184 anhoang RUN   corradin   c2b9        c2b9        *bled True Dec 23 13:24\\n7107941 anhoang RUN   corradin   c2b9        c2b9        *ab_webapp Jan 12 07:48\\n', stderr=b'')"
      ]
     },
     "execution_count": 13,
     "metadata": {},
     "output_type": "execute_result"
    }
   ],
   "source": [
    "test = subprocess.run(f\"bjobs -w 7107941\".split(\" \"), capture_output=True, shell=True)#, return_all=True))()\n",
    "test"
   ]
  },
  {
   "cell_type": "code",
   "execution_count": 98,
   "id": "0c31dba5-b0e0-4b2e-846e-21e35b0662cf",
   "metadata": {
    "execution": {
     "iopub.execute_input": "2023-01-12T16:32:06.011890Z",
     "iopub.status.busy": "2023-01-12T16:32:06.011175Z",
     "iopub.status.idle": "2023-01-12T16:32:06.337078Z",
     "shell.execute_reply": "2023-01-12T16:32:06.335335Z",
     "shell.execute_reply.started": "2023-01-12T16:32:06.011821Z"
    },
    "tags": []
   },
   "outputs": [
    {
     "name": "stdout",
     "output_type": "stream",
     "text": [
      "b'Job <7108675> is submitted to queue <all_corradin>.\\n'\n",
      "b'Job <7108676> is submitted to queue <all_corradin>.\\n'\n"
     ]
    },
    {
     "data": {
      "text/plain": [
       "__main__.Job(command='bsub -q all_corradin -o /dev/null -e /dev/null pwd', status='running', runner_cls=<class '__main__.LSFJobRunner'>, jobid='7108676', has_file_path=False)"
      ]
     },
     "execution_count": 98,
     "metadata": {},
     "output_type": "execute_result"
    }
   ],
   "source": [
    "runner = LSFJobRunner()\n",
    "test_job = Job(command = \"ls\", runner = LSFJobRunner())\n",
    "test_job2 = Job(command = \"pwd\")\n",
    "\n",
    "test_job.run(queue_name = \"all_corradin\", no_email = True, dry_run = False)\n",
    "runner.run(test_job2,dry_run= False, queue_name = \"all_corradin\", no_email = True)\n"
   ]
  },
  {
   "cell_type": "code",
   "execution_count": 99,
   "id": "49d662ae-304d-43f0-9aee-477aeca9e22d",
   "metadata": {
    "execution": {
     "iopub.execute_input": "2023-01-12T16:32:07.968349Z",
     "iopub.status.busy": "2023-01-12T16:32:07.967584Z",
     "iopub.status.idle": "2023-01-12T16:32:08.144078Z",
     "shell.execute_reply": "2023-01-12T16:32:08.142100Z",
     "shell.execute_reply.started": "2023-01-12T16:32:07.968275Z"
    },
    "tags": []
   },
   "outputs": [
    {
     "data": {
      "application/vnd.jupyter.widget-view+json": {
       "model_id": "de07691c4c174d9bb5603db97dfd9be4",
       "version_major": 2,
       "version_minor": 0
      },
      "text/plain": [
       "  0%|          | 0/2 [00:00<?, ?it/s]"
      ]
     },
     "metadata": {},
     "output_type": "display_data"
    },
    {
     "data": {
      "text/html": [
       "<div>\n",
       "<style scoped>\n",
       "    .dataframe tbody tr th:only-of-type {\n",
       "        vertical-align: middle;\n",
       "    }\n",
       "\n",
       "    .dataframe tbody tr th {\n",
       "        vertical-align: top;\n",
       "    }\n",
       "\n",
       "    .dataframe thead th {\n",
       "        text-align: right;\n",
       "    }\n",
       "</style>\n",
       "<table border=\"1\" class=\"dataframe\">\n",
       "  <thead>\n",
       "    <tr style=\"text-align: right;\">\n",
       "      <th></th>\n",
       "      <th>JOBID</th>\n",
       "      <th>USER</th>\n",
       "      <th>STAT</th>\n",
       "      <th>QUEUE</th>\n",
       "      <th>FROM_HOST</th>\n",
       "      <th>EXEC_HOST</th>\n",
       "      <th>JOB_NAME</th>\n",
       "      <th>SUBMIT_TIME</th>\n",
       "      <th>Checked at</th>\n",
       "    </tr>\n",
       "  </thead>\n",
       "  <tbody>\n",
       "    <tr>\n",
       "      <th>0</th>\n",
       "      <td>7108675</td>\n",
       "      <td>anhoang</td>\n",
       "      <td>PEND</td>\n",
       "      <td>all_corradin</td>\n",
       "      <td>c2b9</td>\n",
       "      <td>-</td>\n",
       "      <td>ls</td>\n",
       "      <td>Jan-12-11:32</td>\n",
       "      <td>12/01/2023 11:32:06</td>\n",
       "    </tr>\n",
       "    <tr>\n",
       "      <th>0</th>\n",
       "      <td>7108676</td>\n",
       "      <td>anhoang</td>\n",
       "      <td>PEND</td>\n",
       "      <td>all_corradin</td>\n",
       "      <td>c2b9</td>\n",
       "      <td>-</td>\n",
       "      <td>pwd</td>\n",
       "      <td>Jan-12-11:32</td>\n",
       "      <td>12/01/2023 11:32:06</td>\n",
       "    </tr>\n",
       "  </tbody>\n",
       "</table>\n",
       "</div>"
      ],
      "text/plain": [
       "     JOBID     USER  STAT         QUEUE FROM_HOST EXEC_HOST JOB_NAME  \\\n",
       "0  7108675  anhoang  PEND  all_corradin      c2b9         -       ls   \n",
       "0  7108676  anhoang  PEND  all_corradin      c2b9         -      pwd   \n",
       "\n",
       "    SUBMIT_TIME           Checked at  \n",
       "0  Jan-12-11:32  12/01/2023 11:32:06  \n",
       "0  Jan-12-11:32  12/01/2023 11:32:06  "
      ]
     },
     "execution_count": 99,
     "metadata": {},
     "output_type": "execute_result"
    }
   ],
   "source": [
    "runner.check_job_list_status([test_job,test_job2])"
   ]
  },
  {
   "cell_type": "code",
   "execution_count": 66,
   "id": "0ee8ea6f-30c7-493b-b044-8807ec430614",
   "metadata": {
    "execution": {
     "iopub.execute_input": "2023-01-12T13:17:08.880864Z",
     "iopub.status.busy": "2023-01-12T13:17:08.880119Z",
     "iopub.status.idle": "2023-01-12T13:17:08.972340Z",
     "shell.execute_reply": "2023-01-12T13:17:08.971126Z",
     "shell.execute_reply.started": "2023-01-12T13:17:08.880787Z"
    },
    "tags": []
   },
   "outputs": [
    {
     "data": {
      "text/html": [
       "<div>\n",
       "<style scoped>\n",
       "    .dataframe tbody tr th:only-of-type {\n",
       "        vertical-align: middle;\n",
       "    }\n",
       "\n",
       "    .dataframe tbody tr th {\n",
       "        vertical-align: top;\n",
       "    }\n",
       "\n",
       "    .dataframe thead th {\n",
       "        text-align: right;\n",
       "    }\n",
       "</style>\n",
       "<table border=\"1\" class=\"dataframe\">\n",
       "  <thead>\n",
       "    <tr style=\"text-align: right;\">\n",
       "      <th></th>\n",
       "      <th>JOBID</th>\n",
       "      <th>USER</th>\n",
       "      <th>STAT</th>\n",
       "      <th>QUEUE</th>\n",
       "      <th>FROM_HOST</th>\n",
       "      <th>EXEC_HOST</th>\n",
       "      <th>JOB_NAME</th>\n",
       "      <th>SUBMIT_TIME</th>\n",
       "      <th>Checked at</th>\n",
       "    </tr>\n",
       "  </thead>\n",
       "  <tbody>\n",
       "    <tr>\n",
       "      <th>0</th>\n",
       "      <td>7107949</td>\n",
       "      <td>anhoang</td>\n",
       "      <td>PEND</td>\n",
       "      <td>all_corradin</td>\n",
       "      <td>c2b9</td>\n",
       "      <td>-</td>\n",
       "      <td>ls</td>\n",
       "      <td>Jan-12-08:16</td>\n",
       "      <td>12/01/2023 08:16:38</td>\n",
       "    </tr>\n",
       "    <tr>\n",
       "      <th>1</th>\n",
       "      <td>7107949</td>\n",
       "      <td>anhoang</td>\n",
       "      <td>DONE</td>\n",
       "      <td>all_corradin</td>\n",
       "      <td>c2b9</td>\n",
       "      <td>c2b9</td>\n",
       "      <td>ls</td>\n",
       "      <td>Jan-12-08:16</td>\n",
       "      <td>12/01/2023 08:16:51</td>\n",
       "    </tr>\n",
       "  </tbody>\n",
       "</table>\n",
       "</div>"
      ],
      "text/plain": [
       "     JOBID     USER  STAT         QUEUE FROM_HOST EXEC_HOST JOB_NAME  \\\n",
       "0  7107949  anhoang  PEND  all_corradin      c2b9         -       ls   \n",
       "1  7107949  anhoang  DONE  all_corradin      c2b9      c2b9       ls   \n",
       "\n",
       "    SUBMIT_TIME           Checked at  \n",
       "0  Jan-12-08:16  12/01/2023 08:16:38  \n",
       "1  Jan-12-08:16  12/01/2023 08:16:51  "
      ]
     },
     "execution_count": 66,
     "metadata": {},
     "output_type": "execute_result"
    }
   ],
   "source": [
    "test_job.status #query status\n",
    "test_job.status_df"
   ]
  },
  {
   "cell_type": "code",
   "execution_count": 67,
   "id": "8c6b136d-1c71-48a5-b8fb-49820758972f",
   "metadata": {
    "execution": {
     "iopub.execute_input": "2023-01-12T13:17:46.525221Z",
     "iopub.status.busy": "2023-01-12T13:17:46.524497Z",
     "iopub.status.idle": "2023-01-12T13:17:46.747227Z",
     "shell.execute_reply": "2023-01-12T13:17:46.744689Z",
     "shell.execute_reply.started": "2023-01-12T13:17:46.525146Z"
    },
    "tags": []
   },
   "outputs": [
    {
     "name": "stdout",
     "output_type": "stream",
     "text": [
      "b'Job <7107950> is submitted to queue <all_corradin>.\\n'\n"
     ]
    },
    {
     "data": {
      "text/plain": [
       "__main__.Job(command='bsub -q all_corradin -o /dev/null -e /dev/null ls', status='running', runner_cls=<class '__main__.LSFJobRunner'>, jobid='7107950', has_file_path=False)"
      ]
     },
     "execution_count": 67,
     "metadata": {},
     "output_type": "execute_result"
    }
   ],
   "source": [
    "test_job.run(dry_run = False) # this works because the job already has "
   ]
  },
  {
   "cell_type": "code",
   "execution_count": 364,
   "id": "547011af-c2e9-41b3-a206-400077bffc34",
   "metadata": {
    "execution": {
     "iopub.execute_input": "2022-02-01T22:43:40.610407Z",
     "iopub.status.busy": "2022-02-01T22:43:40.609927Z",
     "iopub.status.idle": "2022-02-01T22:43:40.619550Z",
     "shell.execute_reply": "2022-02-01T22:43:40.618220Z",
     "shell.execute_reply.started": "2022-02-01T22:43:40.610347Z"
    },
    "tags": []
   },
   "outputs": [
    {
     "data": {
      "text/plain": [
       "__main__.LSFJobRunner"
      ]
     },
     "execution_count": 364,
     "metadata": {},
     "output_type": "execute_result"
    }
   ],
   "source": [
    "test_job.runner.__class__"
   ]
  },
  {
   "cell_type": "code",
   "execution_count": 75,
   "id": "e08b4436-579d-4833-9d69-7dd26bee20ff",
   "metadata": {
    "execution": {
     "iopub.execute_input": "2023-01-12T13:28:03.281753Z",
     "iopub.status.busy": "2023-01-12T13:28:03.281089Z",
     "iopub.status.idle": "2023-01-12T13:28:03.493246Z",
     "shell.execute_reply": "2023-01-12T13:28:03.491844Z",
     "shell.execute_reply.started": "2023-01-12T13:28:03.281689Z"
    },
    "tags": []
   },
   "outputs": [
    {
     "name": "stdout",
     "output_type": "stream",
     "text": [
      "b'Job <7107951> is submitted to queue <all_corradin>.\\n'\n"
     ]
    },
    {
     "data": {
      "text/plain": [
       "__main__.Job(command='bsub -q all_corradin -o /dev/null -e /dev/null ls', status='running', runner_cls=<class '__main__.LSFJobRunner'>, jobid='7107951', has_file_path=False)"
      ]
     },
     "execution_count": 75,
     "metadata": {},
     "output_type": "execute_result"
    }
   ],
   "source": [
    "test = LSFJobRunner()\n",
    "job = test.run(\"ls\", dry_run = False, queue_name =\"all_corradin\", no_email = True)\n",
    "job"
   ]
  },
  {
   "cell_type": "code",
   "execution_count": 76,
   "id": "c9ef0988-18aa-4da2-ab79-330dd2a78351",
   "metadata": {
    "execution": {
     "iopub.execute_input": "2023-01-12T13:28:04.753937Z",
     "iopub.status.busy": "2023-01-12T13:28:04.753275Z",
     "iopub.status.idle": "2023-01-12T13:28:04.843852Z",
     "shell.execute_reply": "2023-01-12T13:28:04.842039Z",
     "shell.execute_reply.started": "2023-01-12T13:28:04.753861Z"
    },
    "tags": []
   },
   "outputs": [
    {
     "data": {
      "text/plain": [
       "'running'"
      ]
     },
     "execution_count": 76,
     "metadata": {},
     "output_type": "execute_result"
    }
   ],
   "source": [
    "job.status"
   ]
  },
  {
   "cell_type": "code",
   "execution_count": 77,
   "id": "d07d9f54-8c08-4303-840a-920e91bc31a7",
   "metadata": {
    "execution": {
     "iopub.execute_input": "2023-01-12T13:28:05.829403Z",
     "iopub.status.busy": "2023-01-12T13:28:05.828748Z",
     "iopub.status.idle": "2023-01-12T13:28:05.851136Z",
     "shell.execute_reply": "2023-01-12T13:28:05.850217Z",
     "shell.execute_reply.started": "2023-01-12T13:28:05.829327Z"
    },
    "tags": []
   },
   "outputs": [
    {
     "data": {
      "text/html": [
       "<div>\n",
       "<style scoped>\n",
       "    .dataframe tbody tr th:only-of-type {\n",
       "        vertical-align: middle;\n",
       "    }\n",
       "\n",
       "    .dataframe tbody tr th {\n",
       "        vertical-align: top;\n",
       "    }\n",
       "\n",
       "    .dataframe thead th {\n",
       "        text-align: right;\n",
       "    }\n",
       "</style>\n",
       "<table border=\"1\" class=\"dataframe\">\n",
       "  <thead>\n",
       "    <tr style=\"text-align: right;\">\n",
       "      <th></th>\n",
       "      <th>JOBID</th>\n",
       "      <th>USER</th>\n",
       "      <th>STAT</th>\n",
       "      <th>QUEUE</th>\n",
       "      <th>FROM_HOST</th>\n",
       "      <th>EXEC_HOST</th>\n",
       "      <th>JOB_NAME</th>\n",
       "      <th>SUBMIT_TIME</th>\n",
       "      <th>Checked at</th>\n",
       "    </tr>\n",
       "  </thead>\n",
       "  <tbody>\n",
       "    <tr>\n",
       "      <th>0</th>\n",
       "      <td>7107951</td>\n",
       "      <td>anhoang</td>\n",
       "      <td>PEND</td>\n",
       "      <td>all_corradin</td>\n",
       "      <td>c2b9</td>\n",
       "      <td>-</td>\n",
       "      <td>ls</td>\n",
       "      <td>Jan-12-08:28</td>\n",
       "      <td>12/01/2023 08:28:03</td>\n",
       "    </tr>\n",
       "  </tbody>\n",
       "</table>\n",
       "</div>"
      ],
      "text/plain": [
       "     JOBID     USER  STAT         QUEUE FROM_HOST EXEC_HOST JOB_NAME  \\\n",
       "0  7107951  anhoang  PEND  all_corradin      c2b9         -       ls   \n",
       "\n",
       "    SUBMIT_TIME           Checked at  \n",
       "0  Jan-12-08:28  12/01/2023 08:28:03  "
      ]
     },
     "execution_count": 77,
     "metadata": {},
     "output_type": "execute_result"
    }
   ],
   "source": [
    "job.status_df"
   ]
  },
  {
   "cell_type": "code",
   "execution_count": 372,
   "id": "3667df6a-3a24-4895-8875-0d46015ac59d",
   "metadata": {
    "execution": {
     "iopub.execute_input": "2022-02-01T22:56:43.501276Z",
     "iopub.status.busy": "2022-02-01T22:56:43.500713Z",
     "iopub.status.idle": "2022-02-01T22:56:43.585435Z",
     "shell.execute_reply": "2022-02-01T22:56:43.584614Z",
     "shell.execute_reply.started": "2022-02-01T22:56:43.501213Z"
    },
    "tags": []
   },
   "outputs": [
    {
     "ename": "NameError",
     "evalue": "name 'job_folder' is not defined",
     "output_type": "error",
     "traceback": [
      "\u001b[0;31m---------------------------------------------------------------------------\u001b[0m",
      "\u001b[0;31mNameError\u001b[0m                                 Traceback (most recent call last)",
      "\u001b[0;32m/lab/corradin_biobank/FOR_AN/OVP/corradin_ovp_utils/.venv/lib/python3.8/site-packages/IPython/core/formatters.py\u001b[0m in \u001b[0;36m__call__\u001b[0;34m(self, obj)\u001b[0m\n\u001b[1;32m    700\u001b[0m                 \u001b[0mtype_pprinters\u001b[0m\u001b[0;34m=\u001b[0m\u001b[0mself\u001b[0m\u001b[0;34m.\u001b[0m\u001b[0mtype_printers\u001b[0m\u001b[0;34m,\u001b[0m\u001b[0;34m\u001b[0m\u001b[0;34m\u001b[0m\u001b[0m\n\u001b[1;32m    701\u001b[0m                 deferred_pprinters=self.deferred_printers)\n\u001b[0;32m--> 702\u001b[0;31m             \u001b[0mprinter\u001b[0m\u001b[0;34m.\u001b[0m\u001b[0mpretty\u001b[0m\u001b[0;34m(\u001b[0m\u001b[0mobj\u001b[0m\u001b[0;34m)\u001b[0m\u001b[0;34m\u001b[0m\u001b[0;34m\u001b[0m\u001b[0m\n\u001b[0m\u001b[1;32m    703\u001b[0m             \u001b[0mprinter\u001b[0m\u001b[0;34m.\u001b[0m\u001b[0mflush\u001b[0m\u001b[0;34m(\u001b[0m\u001b[0;34m)\u001b[0m\u001b[0;34m\u001b[0m\u001b[0;34m\u001b[0m\u001b[0m\n\u001b[1;32m    704\u001b[0m             \u001b[0;32mreturn\u001b[0m \u001b[0mstream\u001b[0m\u001b[0;34m.\u001b[0m\u001b[0mgetvalue\u001b[0m\u001b[0;34m(\u001b[0m\u001b[0;34m)\u001b[0m\u001b[0;34m\u001b[0m\u001b[0;34m\u001b[0m\u001b[0m\n",
      "\u001b[0;32m/lab/corradin_biobank/FOR_AN/OVP/corradin_ovp_utils/.venv/lib/python3.8/site-packages/IPython/lib/pretty.py\u001b[0m in \u001b[0;36mpretty\u001b[0;34m(self, obj)\u001b[0m\n\u001b[1;32m    397\u001b[0m                         \u001b[0;32mif\u001b[0m \u001b[0mcls\u001b[0m \u001b[0;32mis\u001b[0m \u001b[0;32mnot\u001b[0m \u001b[0mobject\u001b[0m\u001b[0;31m \u001b[0m\u001b[0;31m\\\u001b[0m\u001b[0;34m\u001b[0m\u001b[0;34m\u001b[0m\u001b[0m\n\u001b[1;32m    398\u001b[0m                                 \u001b[0;32mand\u001b[0m \u001b[0mcallable\u001b[0m\u001b[0;34m(\u001b[0m\u001b[0mcls\u001b[0m\u001b[0;34m.\u001b[0m\u001b[0m__dict__\u001b[0m\u001b[0;34m.\u001b[0m\u001b[0mget\u001b[0m\u001b[0;34m(\u001b[0m\u001b[0;34m'__repr__'\u001b[0m\u001b[0;34m)\u001b[0m\u001b[0;34m)\u001b[0m\u001b[0;34m:\u001b[0m\u001b[0;34m\u001b[0m\u001b[0;34m\u001b[0m\u001b[0m\n\u001b[0;32m--> 399\u001b[0;31m                             \u001b[0;32mreturn\u001b[0m \u001b[0m_repr_pprint\u001b[0m\u001b[0;34m(\u001b[0m\u001b[0mobj\u001b[0m\u001b[0;34m,\u001b[0m \u001b[0mself\u001b[0m\u001b[0;34m,\u001b[0m \u001b[0mcycle\u001b[0m\u001b[0;34m)\u001b[0m\u001b[0;34m\u001b[0m\u001b[0;34m\u001b[0m\u001b[0m\n\u001b[0m\u001b[1;32m    400\u001b[0m \u001b[0;34m\u001b[0m\u001b[0m\n\u001b[1;32m    401\u001b[0m             \u001b[0;32mreturn\u001b[0m \u001b[0m_default_pprint\u001b[0m\u001b[0;34m(\u001b[0m\u001b[0mobj\u001b[0m\u001b[0;34m,\u001b[0m \u001b[0mself\u001b[0m\u001b[0;34m,\u001b[0m \u001b[0mcycle\u001b[0m\u001b[0;34m)\u001b[0m\u001b[0;34m\u001b[0m\u001b[0;34m\u001b[0m\u001b[0m\n",
      "\u001b[0;32m/lab/corradin_biobank/FOR_AN/OVP/corradin_ovp_utils/.venv/lib/python3.8/site-packages/IPython/lib/pretty.py\u001b[0m in \u001b[0;36m_repr_pprint\u001b[0;34m(obj, p, cycle)\u001b[0m\n\u001b[1;32m    687\u001b[0m     \u001b[0;34m\"\"\"A pprint that just redirects to the normal repr function.\"\"\"\u001b[0m\u001b[0;34m\u001b[0m\u001b[0;34m\u001b[0m\u001b[0m\n\u001b[1;32m    688\u001b[0m     \u001b[0;31m# Find newlines and replace them with p.break_()\u001b[0m\u001b[0;34m\u001b[0m\u001b[0;34m\u001b[0m\u001b[0;34m\u001b[0m\u001b[0m\n\u001b[0;32m--> 689\u001b[0;31m     \u001b[0moutput\u001b[0m \u001b[0;34m=\u001b[0m \u001b[0mrepr\u001b[0m\u001b[0;34m(\u001b[0m\u001b[0mobj\u001b[0m\u001b[0;34m)\u001b[0m\u001b[0;34m\u001b[0m\u001b[0;34m\u001b[0m\u001b[0m\n\u001b[0m\u001b[1;32m    690\u001b[0m     \u001b[0;32mfor\u001b[0m \u001b[0midx\u001b[0m\u001b[0;34m,\u001b[0m\u001b[0moutput_line\u001b[0m \u001b[0;32min\u001b[0m \u001b[0menumerate\u001b[0m\u001b[0;34m(\u001b[0m\u001b[0moutput\u001b[0m\u001b[0;34m.\u001b[0m\u001b[0msplitlines\u001b[0m\u001b[0;34m(\u001b[0m\u001b[0;34m)\u001b[0m\u001b[0;34m)\u001b[0m\u001b[0;34m:\u001b[0m\u001b[0;34m\u001b[0m\u001b[0;34m\u001b[0m\u001b[0m\n\u001b[1;32m    691\u001b[0m         \u001b[0;32mif\u001b[0m \u001b[0midx\u001b[0m\u001b[0;34m:\u001b[0m\u001b[0;34m\u001b[0m\u001b[0;34m\u001b[0m\u001b[0m\n",
      "\u001b[0;32m/lab/corradin_biobank/FOR_AN/OVP/corradin_ovp_utils/.venv/lib/python3.8/site-packages/fastcore/basics.py\u001b[0m in \u001b[0;36m_f\u001b[0;34m(self)\u001b[0m\n\u001b[1;32m     38\u001b[0m     \u001b[0mflds\u001b[0m \u001b[0;34m=\u001b[0m \u001b[0mlist\u001b[0m\u001b[0;34m(\u001b[0m\u001b[0mflds\u001b[0m \u001b[0;32mor\u001b[0m \u001b[0;34m[\u001b[0m\u001b[0;34m]\u001b[0m\u001b[0;34m)\u001b[0m\u001b[0;34m\u001b[0m\u001b[0;34m\u001b[0m\u001b[0m\n\u001b[1;32m     39\u001b[0m     \u001b[0;32mdef\u001b[0m \u001b[0m_f\u001b[0m\u001b[0;34m(\u001b[0m\u001b[0mself\u001b[0m\u001b[0;34m)\u001b[0m\u001b[0;34m:\u001b[0m\u001b[0;34m\u001b[0m\u001b[0;34m\u001b[0m\u001b[0m\n\u001b[0;32m---> 40\u001b[0;31m         \u001b[0msig\u001b[0m \u001b[0;34m=\u001b[0m \u001b[0;34m', '\u001b[0m\u001b[0;34m.\u001b[0m\u001b[0mjoin\u001b[0m\u001b[0;34m(\u001b[0m\u001b[0;34mf'{o}={getattr(self,o)!r}'\u001b[0m \u001b[0;32mfor\u001b[0m \u001b[0mo\u001b[0m \u001b[0;32min\u001b[0m \u001b[0mflds\u001b[0m\u001b[0;34m)\u001b[0m\u001b[0;34m\u001b[0m\u001b[0;34m\u001b[0m\u001b[0m\n\u001b[0m\u001b[1;32m     41\u001b[0m         \u001b[0;32mreturn\u001b[0m \u001b[0;34mf'{self.__class__.__name__}({sig})'\u001b[0m\u001b[0;34m\u001b[0m\u001b[0;34m\u001b[0m\u001b[0m\n\u001b[1;32m     42\u001b[0m     \u001b[0;32mreturn\u001b[0m \u001b[0m_f\u001b[0m\u001b[0;34m\u001b[0m\u001b[0;34m\u001b[0m\u001b[0m\n",
      "\u001b[0;32m/lab/corradin_biobank/FOR_AN/OVP/corradin_ovp_utils/.venv/lib/python3.8/site-packages/fastcore/basics.py\u001b[0m in \u001b[0;36m<genexpr>\u001b[0;34m(.0)\u001b[0m\n\u001b[1;32m     38\u001b[0m     \u001b[0mflds\u001b[0m \u001b[0;34m=\u001b[0m \u001b[0mlist\u001b[0m\u001b[0;34m(\u001b[0m\u001b[0mflds\u001b[0m \u001b[0;32mor\u001b[0m \u001b[0;34m[\u001b[0m\u001b[0;34m]\u001b[0m\u001b[0;34m)\u001b[0m\u001b[0;34m\u001b[0m\u001b[0;34m\u001b[0m\u001b[0m\n\u001b[1;32m     39\u001b[0m     \u001b[0;32mdef\u001b[0m \u001b[0m_f\u001b[0m\u001b[0;34m(\u001b[0m\u001b[0mself\u001b[0m\u001b[0;34m)\u001b[0m\u001b[0;34m:\u001b[0m\u001b[0;34m\u001b[0m\u001b[0;34m\u001b[0m\u001b[0m\n\u001b[0;32m---> 40\u001b[0;31m         \u001b[0msig\u001b[0m \u001b[0;34m=\u001b[0m \u001b[0;34m', '\u001b[0m\u001b[0;34m.\u001b[0m\u001b[0mjoin\u001b[0m\u001b[0;34m(\u001b[0m\u001b[0;34mf'{o}={getattr(self,o)!r}'\u001b[0m \u001b[0;32mfor\u001b[0m \u001b[0mo\u001b[0m \u001b[0;32min\u001b[0m \u001b[0mflds\u001b[0m\u001b[0;34m)\u001b[0m\u001b[0;34m\u001b[0m\u001b[0;34m\u001b[0m\u001b[0m\n\u001b[0m\u001b[1;32m     41\u001b[0m         \u001b[0;32mreturn\u001b[0m \u001b[0;34mf'{self.__class__.__name__}({sig})'\u001b[0m\u001b[0;34m\u001b[0m\u001b[0;34m\u001b[0m\u001b[0m\n\u001b[1;32m     42\u001b[0m     \u001b[0;32mreturn\u001b[0m \u001b[0m_f\u001b[0m\u001b[0;34m\u001b[0m\u001b[0;34m\u001b[0m\u001b[0m\n",
      "\u001b[0;32m<ipython-input-369-743d85929edb>\u001b[0m in \u001b[0;36mstatus\u001b[0;34m(self)\u001b[0m\n\u001b[1;32m    259\u001b[0m             \u001b[0;32mreturn\u001b[0m \u001b[0;34m\"Not submitted\"\u001b[0m\u001b[0;34m\u001b[0m\u001b[0;34m\u001b[0m\u001b[0m\n\u001b[1;32m    260\u001b[0m         \u001b[0;32melse\u001b[0m\u001b[0;34m:\u001b[0m\u001b[0;34m\u001b[0m\u001b[0;34m\u001b[0m\u001b[0m\n\u001b[0;32m--> 261\u001b[0;31m             \u001b[0;32mreturn\u001b[0m \u001b[0mself\u001b[0m\u001b[0;34m.\u001b[0m\u001b[0mrunner\u001b[0m\u001b[0;34m.\u001b[0m\u001b[0mcheck_job_status\u001b[0m\u001b[0;34m(\u001b[0m\u001b[0mself\u001b[0m\u001b[0;34m)\u001b[0m\u001b[0;34m\u001b[0m\u001b[0;34m\u001b[0m\u001b[0m\n\u001b[0m\u001b[1;32m    262\u001b[0m \u001b[0;34m\u001b[0m\u001b[0m\n\u001b[1;32m    263\u001b[0m     \u001b[0;32mclass\u001b[0m \u001b[0mConfig\u001b[0m\u001b[0;34m:\u001b[0m\u001b[0;34m\u001b[0m\u001b[0;34m\u001b[0m\u001b[0m\n",
      "\u001b[0;32m<ipython-input-369-743d85929edb>\u001b[0m in \u001b[0;36mcheck_job_status\u001b[0;34m(self, job)\u001b[0m\n\u001b[1;32m    194\u001b[0m             \u001b[0mlogging\u001b[0m\u001b[0;34m.\u001b[0m\u001b[0mdebug\u001b[0m\u001b[0;34m(\u001b[0m\u001b[0;34m\"\\tCannot find job in bjobs checking for \\'finished\\' file in job folder\"\u001b[0m\u001b[0;34m)\u001b[0m\u001b[0;34m\u001b[0m\u001b[0;34m\u001b[0m\u001b[0m\n\u001b[1;32m    195\u001b[0m             \u001b[0mlogging\u001b[0m\u001b[0;34m.\u001b[0m\u001b[0mdebug\u001b[0m\u001b[0;34m(\u001b[0m\u001b[0;34m\"\\tThe current folder is {}\"\u001b[0m\u001b[0;34m.\u001b[0m\u001b[0mformat\u001b[0m\u001b[0;34m(\u001b[0m\u001b[0mos\u001b[0m\u001b[0;34m.\u001b[0m\u001b[0mgetcwd\u001b[0m\u001b[0;34m(\u001b[0m\u001b[0;34m)\u001b[0m\u001b[0;34m)\u001b[0m\u001b[0;34m)\u001b[0m\u001b[0;34m\u001b[0m\u001b[0;34m\u001b[0m\u001b[0m\n\u001b[0;32m--> 196\u001b[0;31m             \u001b[0mlogging\u001b[0m\u001b[0;34m.\u001b[0m\u001b[0mdebug\u001b[0m\u001b[0;34m(\u001b[0m\u001b[0;34m\"\\tThe job folder is {}\"\u001b[0m\u001b[0;34m.\u001b[0m\u001b[0mformat\u001b[0m\u001b[0;34m(\u001b[0m\u001b[0mjob_folder\u001b[0m\u001b[0;34m)\u001b[0m\u001b[0;34m)\u001b[0m\u001b[0;34m\u001b[0m\u001b[0;34m\u001b[0m\u001b[0m\n\u001b[0m\u001b[1;32m    197\u001b[0m \u001b[0;34m\u001b[0m\u001b[0m\n\u001b[1;32m    198\u001b[0m             \u001b[0;32mtry\u001b[0m\u001b[0;34m:\u001b[0m\u001b[0;34m\u001b[0m\u001b[0;34m\u001b[0m\u001b[0m\n",
      "\u001b[0;31mNameError\u001b[0m: name 'job_folder' is not defined"
     ]
    }
   ],
   "source": [
    "Job(jobid = \"5080872\", runner= LSFJobRunner())"
   ]
  }
 ],
 "metadata": {
  "kernelspec": {
   "display_name": "Python 3 (ipykernel)",
   "language": "python",
   "name": "python3"
  },
  "language_info": {
   "codemirror_mode": {
    "name": "ipython",
    "version": 3
   },
   "file_extension": ".py",
   "mimetype": "text/x-python",
   "name": "python",
   "nbconvert_exporter": "python",
   "pygments_lexer": "ipython3",
   "version": "3.8.7"
  }
 },
 "nbformat": 4,
 "nbformat_minor": 5
}
