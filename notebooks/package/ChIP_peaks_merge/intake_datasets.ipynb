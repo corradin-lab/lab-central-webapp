{
 "cells": [
  {
   "cell_type": "code",
   "execution_count": 15,
   "id": "d289a59f-172f-4018-9c04-bd4a7e864ae5",
   "metadata": {
    "execution": {
     "iopub.execute_input": "2023-01-30T09:50:50.178433Z",
     "iopub.status.busy": "2023-01-30T09:50:50.177745Z",
     "iopub.status.idle": "2023-01-30T09:50:50.185001Z",
     "shell.execute_reply": "2023-01-30T09:50:50.183401Z",
     "shell.execute_reply.started": "2023-01-30T09:50:50.178373Z"
    },
    "tags": []
   },
   "outputs": [],
   "source": [
    "#| default_exp catalogs"
   ]
  },
  {
   "cell_type": "code",
   "execution_count": 33,
   "id": "c5fa9d7a-8e56-4e22-9d7e-7dae069d8d3c",
   "metadata": {
    "execution": {
     "iopub.execute_input": "2023-01-30T10:19:05.985411Z",
     "iopub.status.busy": "2023-01-30T10:19:05.984596Z",
     "iopub.status.idle": "2023-01-30T10:19:06.000867Z",
     "shell.execute_reply": "2023-01-30T10:19:05.999384Z",
     "shell.execute_reply.started": "2023-01-30T10:19:05.985343Z"
    },
    "tags": []
   },
   "outputs": [],
   "source": [
    "#| export\n",
    "import intake\n",
    "from fastcore.basics import basic_repr\n"
   ]
  },
  {
   "cell_type": "code",
   "execution_count": 17,
   "id": "7ca4df79-f733-400b-9b6d-b0efa725a886",
   "metadata": {
    "execution": {
     "iopub.execute_input": "2023-01-30T10:02:53.849129Z",
     "iopub.status.busy": "2023-01-30T10:02:53.848465Z",
     "iopub.status.idle": "2023-01-30T10:02:53.856551Z",
     "shell.execute_reply": "2023-01-30T10:02:53.855110Z",
     "shell.execute_reply.started": "2023-01-30T10:02:53.849070Z"
    },
    "tags": []
   },
   "outputs": [],
   "source": [
    "#| export\n",
    "def load_readable_name_to_catalog_name(intake_catalog):\n",
    "    return {intake_catalog[data_name].description: data_name for data_name in intake_catalog}"
   ]
  },
  {
   "cell_type": "code",
   "execution_count": 20,
   "id": "b59a1e63-7db4-4d4a-8a8d-f6da545d14ce",
   "metadata": {
    "execution": {
     "iopub.execute_input": "2023-01-30T10:10:20.195874Z",
     "iopub.status.busy": "2023-01-30T10:10:20.195114Z",
     "iopub.status.idle": "2023-01-30T10:10:20.203482Z",
     "shell.execute_reply": "2023-01-30T10:10:20.201838Z",
     "shell.execute_reply.started": "2023-01-30T10:10:20.195808Z"
    },
    "tags": []
   },
   "outputs": [],
   "source": [
    "#| export\n",
    "intake_catalog_folder = \"/lab/corradin_biobank/FOR_AN/lab-central-webapp/data/00_intake_catalogs/\"\n"
   ]
  },
  {
   "cell_type": "code",
   "execution_count": 35,
   "id": "58b75b5d-95c8-4f07-ad6c-5623c4b5123e",
   "metadata": {
    "execution": {
     "iopub.execute_input": "2023-01-30T10:21:20.639937Z",
     "iopub.status.busy": "2023-01-30T10:21:20.638987Z",
     "iopub.status.idle": "2023-01-30T10:21:20.663794Z",
     "shell.execute_reply": "2023-01-30T10:21:20.662533Z",
     "shell.execute_reply.started": "2023-01-30T10:21:20.639866Z"
    },
    "tags": []
   },
   "outputs": [],
   "source": [
    "#| export\n",
    "\n",
    "class IntakeCatalogWrapper():\n",
    "    __repr__ = basic_repr(\"num_datasets\")\n",
    "    def __init__(self, cat_uri):\n",
    "        self.catalog = intake.open_catalog(cat_uri)\n",
    "    \n",
    "    @property\n",
    "    def num_datasets(self):\n",
    "        return f\"Intake catalog. Number of datasets: {len(list(self.catalog.keys()))}\"\n",
    "    \n",
    "    @property\n",
    "    def readable_name_to_data_name_dict(self):\n",
    "        return load_readable_name_to_catalog_name(self.catalog)\n",
    "    \n",
    "    def load_data(self, data_name):\n",
    "        df = self.catalog[data_name].read()\n",
    "        return df\n",
    "\n",
    "    def load_data_by_readable_name(self,readable_name):\n",
    "        data_name = self.readable_name_to_data_name_dict[readable_name]\n",
    "        return self.load_data(data_name)\n",
    "    \n",
    "    def load_data_dict_by_readable_names(readable_names):\n",
    "        return {readable_name: load_data_by_readable_name(readable_name) for readable_name in readable_names}\n",
    "        "
   ]
  },
  {
   "cell_type": "code",
   "execution_count": 30,
   "id": "a2ce364b-9c2f-49a4-b6a6-4ecfa3b16217",
   "metadata": {
    "execution": {
     "iopub.execute_input": "2023-01-30T10:13:48.941620Z",
     "iopub.status.busy": "2023-01-30T10:13:48.940858Z",
     "iopub.status.idle": "2023-01-30T10:13:48.965975Z",
     "shell.execute_reply": "2023-01-30T10:13:48.964689Z",
     "shell.execute_reply.started": "2023-01-30T10:13:48.941547Z"
    },
    "tags": []
   },
   "outputs": [
    {
     "data": {
      "text/plain": [
       "<__main__.IntakeCatalogWrapper at 0x1523d0742460>"
      ]
     },
     "execution_count": 30,
     "metadata": {},
     "output_type": "execute_result"
    }
   ],
   "source": [
    "#| export\n",
    "intake_catalog = IntakeCatalogWrapper(f\"{intake_catalog_folder}/*.yaml\")\n",
    "intake_catalog"
   ]
  },
  {
   "cell_type": "code",
   "execution_count": 28,
   "id": "585b8e21-1610-486a-80e4-8cfd0e5f9f2f",
   "metadata": {
    "execution": {
     "iopub.execute_input": "2023-01-30T10:12:28.267229Z",
     "iopub.status.busy": "2023-01-30T10:12:28.266630Z",
     "iopub.status.idle": "2023-01-30T10:12:28.288489Z",
     "shell.execute_reply": "2023-01-30T10:12:28.287004Z",
     "shell.execute_reply.started": "2023-01-30T10:12:28.267169Z"
    },
    "tags": []
   },
   "outputs": [
    {
     "data": {
      "text/plain": [
       "{'scATAC-seq peaks from Yang et al 2022, biorxiv': 'yang_2022_brain_scATAC'}"
      ]
     },
     "execution_count": 28,
     "metadata": {},
     "output_type": "execute_result"
    }
   ],
   "source": [
    "intake_catalog.readable_name_to_data_name_dict"
   ]
  },
  {
   "cell_type": "code",
   "execution_count": 29,
   "id": "cfe0b84d-f80d-480d-a0dd-9481d9761628",
   "metadata": {
    "execution": {
     "iopub.execute_input": "2023-01-30T10:12:28.758296Z",
     "iopub.status.busy": "2023-01-30T10:12:28.757694Z",
     "iopub.status.idle": "2023-01-30T10:12:35.301169Z",
     "shell.execute_reply": "2023-01-30T10:12:35.299070Z",
     "shell.execute_reply.started": "2023-01-30T10:12:28.758236Z"
    },
    "tags": []
   },
   "outputs": [
    {
     "data": {
      "text/html": [
       "<div>\n",
       "<style scoped>\n",
       "    .dataframe tbody tr th:only-of-type {\n",
       "        vertical-align: middle;\n",
       "    }\n",
       "\n",
       "    .dataframe tbody tr th {\n",
       "        vertical-align: top;\n",
       "    }\n",
       "\n",
       "    .dataframe thead th {\n",
       "        text-align: right;\n",
       "    }\n",
       "</style>\n",
       "<table border=\"1\" class=\"dataframe\">\n",
       "  <thead>\n",
       "    <tr style=\"text-align: right;\">\n",
       "      <th></th>\n",
       "      <th>chrom</th>\n",
       "      <th>start</th>\n",
       "      <th>stop</th>\n",
       "      <th>cCRE_ID</th>\n",
       "      <th>cell_type</th>\n",
       "      <th>peak</th>\n",
       "      <th>cell_type_name</th>\n",
       "    </tr>\n",
       "  </thead>\n",
       "  <tbody>\n",
       "    <tr>\n",
       "      <th>0</th>\n",
       "      <td>chr1</td>\n",
       "      <td>9848</td>\n",
       "      <td>10347</td>\n",
       "      <td>cCRE_1</td>\n",
       "      <td>AMY,ASCT_1,ASCT_2,ASCT_3,COP,ERC_1,ITL23_1,ITL...</td>\n",
       "      <td>chr1_9848_10347</td>\n",
       "      <td>Glutamatergic neurons from amygdala,Telencepha...</td>\n",
       "    </tr>\n",
       "    <tr>\n",
       "      <th>1</th>\n",
       "      <td>chr1</td>\n",
       "      <td>180570</td>\n",
       "      <td>181069</td>\n",
       "      <td>cCRE_2</td>\n",
       "      <td>ACBGM,AMY,ASCNT_1,ASCNT_3,ASCT_1,ASCT_2,ASCT_3...</td>\n",
       "      <td>chr1_180570_181069</td>\n",
       "      <td>Bergmann glia,Glutamatergic neurons from amygd...</td>\n",
       "    </tr>\n",
       "    <tr>\n",
       "      <th>2</th>\n",
       "      <td>chr1</td>\n",
       "      <td>191227</td>\n",
       "      <td>191726</td>\n",
       "      <td>cCRE_3</td>\n",
       "      <td>ASCNT_1,ASCNT_2,ASCNT_3,ASCT_1,ASCT_2,ASCT_3,C...</td>\n",
       "      <td>chr1_191227_191726</td>\n",
       "      <td>Non-telencephalon astrocytes - type 1,Non-tele...</td>\n",
       "    </tr>\n",
       "    <tr>\n",
       "      <th>3</th>\n",
       "      <td>chr1</td>\n",
       "      <td>267759</td>\n",
       "      <td>268258</td>\n",
       "      <td>cCRE_4</td>\n",
       "      <td>ASCT_2,ASCT_3,OGC_1,OGC_2,OGC_3,OPC</td>\n",
       "      <td>chr1_267759_268258</td>\n",
       "      <td>Telencephalon astrocytes - type 2,Telencephalo...</td>\n",
       "    </tr>\n",
       "    <tr>\n",
       "      <th>4</th>\n",
       "      <td>chr1</td>\n",
       "      <td>585948</td>\n",
       "      <td>586447</td>\n",
       "      <td>cCRE_5</td>\n",
       "      <td>ASCT_2,OGC_2,OGC_3,OPC</td>\n",
       "      <td>chr1_585948_586447</td>\n",
       "      <td>Telencephalon astrocytes - type 2,Oligodendroc...</td>\n",
       "    </tr>\n",
       "    <tr>\n",
       "      <th>...</th>\n",
       "      <td>...</td>\n",
       "      <td>...</td>\n",
       "      <td>...</td>\n",
       "      <td>...</td>\n",
       "      <td>...</td>\n",
       "      <td>...</td>\n",
       "      <td>...</td>\n",
       "    </tr>\n",
       "    <tr>\n",
       "      <th>92827</th>\n",
       "      <td>chrY</td>\n",
       "      <td>56727893</td>\n",
       "      <td>56728392</td>\n",
       "      <td>cCRE_544731</td>\n",
       "      <td>ACBGM,ASCNT_1,ASCT_1,ASCT_2,ASCT_3,CBGRC,ITL23...</td>\n",
       "      <td>chrY_56727893_56728392</td>\n",
       "      <td>Bergmann glia,Non-telencephalon astrocytes - t...</td>\n",
       "    </tr>\n",
       "    <tr>\n",
       "      <th>92828</th>\n",
       "      <td>chrY</td>\n",
       "      <td>56734541</td>\n",
       "      <td>56735040</td>\n",
       "      <td>cCRE_544732</td>\n",
       "      <td>ASCNT_1,ASCNT_2,ASCNT_3,ASCT_1,ASCT_2,ASCT_3,C...</td>\n",
       "      <td>chrY_56734541_56735040</td>\n",
       "      <td>Non-telencephalon astrocytes - type 1,Non-tele...</td>\n",
       "    </tr>\n",
       "    <tr>\n",
       "      <th>92829</th>\n",
       "      <td>chrY</td>\n",
       "      <td>56742465</td>\n",
       "      <td>56742964</td>\n",
       "      <td>cCRE_544733</td>\n",
       "      <td>ASCT_1,OGC_1</td>\n",
       "      <td>chrY_56742465_56742964</td>\n",
       "      <td>Telencephalon astrocytes - type 1,Oligodendroc...</td>\n",
       "    </tr>\n",
       "    <tr>\n",
       "      <th>92830</th>\n",
       "      <td>chrY</td>\n",
       "      <td>56763271</td>\n",
       "      <td>56763770</td>\n",
       "      <td>cCRE_544734</td>\n",
       "      <td>AMY,ASCNT_1,ASCT_1,ASCT_2,ASCT_3,BFEXA,CBGRC,C...</td>\n",
       "      <td>chrY_56763271_56763770</td>\n",
       "      <td>Glutamatergic neurons from amygdala,Non-telenc...</td>\n",
       "    </tr>\n",
       "    <tr>\n",
       "      <th>92831</th>\n",
       "      <td>chrY</td>\n",
       "      <td>56770909</td>\n",
       "      <td>56771408</td>\n",
       "      <td>cCRE_544735</td>\n",
       "      <td>ASCT_1,OGC_1</td>\n",
       "      <td>chrY_56770909_56771408</td>\n",
       "      <td>Telencephalon astrocytes - type 1,Oligodendroc...</td>\n",
       "    </tr>\n",
       "  </tbody>\n",
       "</table>\n",
       "<p>544729 rows × 7 columns</p>\n",
       "</div>"
      ],
      "text/plain": [
       "      chrom  ...                                     cell_type_name\n",
       "0      chr1  ...  Glutamatergic neurons from amygdala,Telencepha...\n",
       "1      chr1  ...  Bergmann glia,Glutamatergic neurons from amygd...\n",
       "2      chr1  ...  Non-telencephalon astrocytes - type 1,Non-tele...\n",
       "3      chr1  ...  Telencephalon astrocytes - type 2,Telencephalo...\n",
       "4      chr1  ...  Telencephalon astrocytes - type 2,Oligodendroc...\n",
       "...     ...  ...                                                ...\n",
       "92827  chrY  ...  Bergmann glia,Non-telencephalon astrocytes - t...\n",
       "92828  chrY  ...  Non-telencephalon astrocytes - type 1,Non-tele...\n",
       "92829  chrY  ...  Telencephalon astrocytes - type 1,Oligodendroc...\n",
       "92830  chrY  ...  Glutamatergic neurons from amygdala,Non-telenc...\n",
       "92831  chrY  ...  Telencephalon astrocytes - type 1,Oligodendroc...\n",
       "\n",
       "[544729 rows x 7 columns]"
      ]
     },
     "execution_count": 29,
     "metadata": {},
     "output_type": "execute_result"
    }
   ],
   "source": [
    "intake_catalog.load_data_by_readable_name('scATAC-seq peaks from Yang et al 2022, biorxiv')"
   ]
  }
 ],
 "metadata": {
  "kernelspec": {
   "display_name": "Python 3 (ipykernel)",
   "language": "python",
   "name": "python3"
  },
  "language_info": {
   "codemirror_mode": {
    "name": "ipython",
    "version": 3
   },
   "file_extension": ".py",
   "mimetype": "text/x-python",
   "name": "python",
   "nbconvert_exporter": "python",
   "pygments_lexer": "ipython3",
   "version": "3.8.7"
  }
 },
 "nbformat": 4,
 "nbformat_minor": 5
}
