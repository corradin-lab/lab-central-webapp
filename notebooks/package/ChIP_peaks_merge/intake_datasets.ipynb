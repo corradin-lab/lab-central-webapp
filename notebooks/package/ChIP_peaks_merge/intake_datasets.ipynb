{
 "cells": [
  {
   "cell_type": "code",
   "execution_count": null,
   "id": "d289a59f-172f-4018-9c04-bd4a7e864ae5",
   "metadata": {},
   "outputs": [],
   "source": [
    "#| default_exp catalogs"
   ]
  },
  {
   "cell_type": "code",
   "execution_count": null,
   "id": "c5fa9d7a-8e56-4e22-9d7e-7dae069d8d3c",
   "metadata": {},
   "outputs": [],
   "source": [
    "#| export\n",
    "from fastcore.basics import basic_repr\n",
    "import pandas as pd\n",
    "from pathlib import Path\n",
    "import types\n",
    "\n",
    "from fastcore.meta import delegates\n",
    "from fastcore.test import *\n",
    "from typing import List, Literal, Dict, Union\n",
    "\n",
    "import yaml\n",
    "import intake\n",
    "from intake.catalog.local import LocalCatalogEntry\n",
    "from intake import Catalog, open_catalog\n"
   ]
  },
  {
   "cell_type": "code",
   "execution_count": null,
   "id": "83604659-8a99-40fc-9371-ebbc6ae8adab",
   "metadata": {},
   "outputs": [],
   "source": [
    "#| export\n",
    "\n",
    "def has_error(func, *args, **kwargs):\n",
    "    try:\n",
    "        func(*args,**kwargs)\n",
    "        return False\n",
    "    except:\n",
    "        return True"
   ]
  },
  {
   "cell_type": "code",
   "execution_count": null,
   "id": "7ca4df79-f733-400b-9b6d-b0efa725a886",
   "metadata": {},
   "outputs": [],
   "source": [
    "#| export\n",
    "def load_readable_name_to_catalog_name(intake_catalog):\n",
    "    return {intake_catalog[data_name].description: data_name for data_name in intake_catalog}"
   ]
  },
  {
   "cell_type": "code",
   "execution_count": null,
   "id": "b59a1e63-7db4-4d4a-8a8d-f6da545d14ce",
   "metadata": {},
   "outputs": [],
   "source": [
    "#| export\n",
    "intake_catalog_folder = \"/lab/corradin_biobank/FOR_AN/lab-central-webapp/data/00_intake_catalogs/\"\n"
   ]
  },
  {
   "cell_type": "markdown",
   "id": "2fd7c09e-8510-4857-a246-745387b9c714",
   "metadata": {},
   "source": [
    "### Reading catalogs"
   ]
  },
  {
   "cell_type": "code",
   "execution_count": null,
   "id": "58b75b5d-95c8-4f07-ad6c-5623c4b5123e",
   "metadata": {},
   "outputs": [],
   "source": [
    "#| export\n",
    "\n",
    "class IntakeCatalogWrapper():\n",
    "    __repr__ = basic_repr(\"num_datasets\")\n",
    "    def __init__(self, cat_uri, process_func=None):\n",
    "        self.catalog = intake.open_catalog(cat_uri)\n",
    "        if process_func:\n",
    "            for entry in self.catalog._entries:\n",
    "                read_and_process_func = self._read_and_process_factory(process_func)\n",
    "                self.catalog[entry].read_and_process = types.MethodType(read_and_process_func,  self.catalog[entry])\n",
    "            \n",
    "    \n",
    "    def _read_and_process_factory(self, process_func):\n",
    "        def read_and_process(self, **kwargs):\n",
    "            df = self.read()\n",
    "            processed_df = process_func(df, self.name, **kwargs)\n",
    "            return processed_df\n",
    "        return read_and_process\n",
    "    \n",
    "    @property\n",
    "    def num_datasets(self):\n",
    "        return f\"Intake catalog. Number of datasets: {len(list(self.catalog.keys()))}\"\n",
    "    \n",
    "    @property\n",
    "    def readable_name_to_data_name_dict(self):\n",
    "        return load_readable_name_to_catalog_name(self.catalog)\n",
    "    \n",
    "    def load_data(self, data_name):\n",
    "        df = self.catalog[data_name].read()\n",
    "        return df\n",
    "\n",
    "    def load_data_by_readable_name(self,readable_name):\n",
    "        data_name = self.readable_name_to_data_name_dict[readable_name]\n",
    "        return self.load_data(data_name)\n",
    "    \n",
    "    def load_data_dict_by_readable_names(readable_names):\n",
    "        return {readable_name: load_data_by_readable_name(readable_name) for readable_name in readable_names}\n",
    "        "
   ]
  },
  {
   "cell_type": "code",
   "execution_count": null,
   "id": "a2ce364b-9c2f-49a4-b6a6-4ecfa3b16217",
   "metadata": {},
   "outputs": [
    {
     "data": {
      "text/plain": [
       "__main__.IntakeCatalogWrapper(num_datasets='Intake catalog. Number of datasets: 0')"
      ]
     },
     "execution_count": null,
     "metadata": {},
     "output_type": "execute_result"
    }
   ],
   "source": [
    "#| export\n",
    "intake_catalog = IntakeCatalogWrapper(f\"{intake_catalog_folder}/*.yaml\")\n",
    "intake_catalog"
   ]
  },
  {
   "cell_type": "code",
   "execution_count": null,
   "id": "585b8e21-1610-486a-80e4-8cfd0e5f9f2f",
   "metadata": {},
   "outputs": [
    {
     "data": {
      "text/plain": [
       "{}"
      ]
     },
     "execution_count": null,
     "metadata": {},
     "output_type": "execute_result"
    }
   ],
   "source": [
    "intake_catalog.readable_name_to_data_name_dict"
   ]
  },
  {
   "cell_type": "code",
   "execution_count": null,
   "id": "cfe0b84d-f80d-480d-a0dd-9481d9761628",
   "metadata": {},
   "outputs": [
    {
     "ename": "KeyError",
     "evalue": "'scATAC-seq peaks from Yang et al 2022, biorxiv'",
     "output_type": "error",
     "traceback": [
      "\u001b[0;31m---------------------------------------------------------------------------\u001b[0m",
      "\u001b[0;31mKeyError\u001b[0m                                  Traceback (most recent call last)",
      "Cell \u001b[0;32mIn[9], line 1\u001b[0m\n\u001b[0;32m----> 1\u001b[0m \u001b[43mintake_catalog\u001b[49m\u001b[38;5;241;43m.\u001b[39;49m\u001b[43mload_data_by_readable_name\u001b[49m\u001b[43m(\u001b[49m\u001b[38;5;124;43m'\u001b[39;49m\u001b[38;5;124;43mscATAC-seq peaks from Yang et al 2022, biorxiv\u001b[39;49m\u001b[38;5;124;43m'\u001b[39;49m\u001b[43m)\u001b[49m\n",
      "Cell \u001b[0;32mIn[6], line 33\u001b[0m, in \u001b[0;36mIntakeCatalogWrapper.load_data_by_readable_name\u001b[0;34m(self, readable_name)\u001b[0m\n\u001b[1;32m     32\u001b[0m \u001b[38;5;28;01mdef\u001b[39;00m \u001b[38;5;21mload_data_by_readable_name\u001b[39m(\u001b[38;5;28mself\u001b[39m,readable_name):\n\u001b[0;32m---> 33\u001b[0m     data_name \u001b[38;5;241m=\u001b[39m \u001b[38;5;28;43mself\u001b[39;49m\u001b[38;5;241;43m.\u001b[39;49m\u001b[43mreadable_name_to_data_name_dict\u001b[49m\u001b[43m[\u001b[49m\u001b[43mreadable_name\u001b[49m\u001b[43m]\u001b[49m\n\u001b[1;32m     34\u001b[0m     \u001b[38;5;28;01mreturn\u001b[39;00m \u001b[38;5;28mself\u001b[39m\u001b[38;5;241m.\u001b[39mload_data(data_name)\n",
      "\u001b[0;31mKeyError\u001b[0m: 'scATAC-seq peaks from Yang et al 2022, biorxiv'"
     ]
    }
   ],
   "source": [
    "intake_catalog.load_data_by_readable_name('scATAC-seq peaks from Yang et al 2022, biorxiv')"
   ]
  },
  {
   "cell_type": "code",
   "execution_count": null,
   "id": "80fb5d49-e49f-4460-8fd9-bd52eddb3787",
   "metadata": {},
   "outputs": [
    {
     "data": {
      "text/plain": [
       "True"
      ]
     },
     "execution_count": null,
     "metadata": {},
     "output_type": "execute_result"
    }
   ],
   "source": [
    "Path('/Users/ahoang/Documents/Work/webapp/HIC_database/hg38/ensembl_all_genes_TSS_hg38').is_file()"
   ]
  },
  {
   "cell_type": "markdown",
   "id": "6b372206-0567-4f08-b341-91bb66e717d1",
   "metadata": {},
   "source": [
    "### Creating and updating catalogs"
   ]
  },
  {
   "cell_type": "code",
   "execution_count": null,
   "id": "39c06f1c-f402-4426-9be1-731576bfeaa4",
   "metadata": {},
   "outputs": [],
   "source": [
    "#| export\n",
    "\n",
    "def generate_data_catalog(*, path: str,\n",
    "                          glob_string:str,\n",
    "                          catalog_name :str = None,\n",
    "                          catalog_description:str = None,\n",
    "                          driver = \"csv\",\n",
    "                          csv_kwargs={\"sep\": \"\\t\"},\n",
    "                          data_types: List[str] = [],\n",
    "                          tags: List[str] = [],\n",
    "                          cat_metadata: Union[Dict[str, str], None]= None):\n",
    "    catalog_metadata_combined = {\"version\": 1, \"data_types\": data_types} if not cat_metadata else {**{\"data_types\": data_types}, **cat_metadata}\n",
    "    abs_path = Path(path).absolute()\n",
    "    cat_name = catalog_name if catalog_name else f\"catalog_generated_from_{path}\"\n",
    "    cat_description = catalog_description if catalog_description else f\"Catalog generated from {path}\"\n",
    "    all_entries_dict = {}\n",
    "    file_paths = abs_path.glob(glob_string)\n",
    "    for file in file_paths:\n",
    "        file_name = file.stem\n",
    "        entry = LocalCatalogEntry(name = file_name,\n",
    "                                  description = \"Fill me in please!\",\n",
    "                                  driver = driver,\n",
    "                                  args = {\"urlpath\": file.as_posix(), \"csv_kwargs\":csv_kwargs},\n",
    "                                  metadata = {\"tags\" : tags,\n",
    "                                              \"citation\":{\"paper_name\": \"Fill me in please!\",\n",
    "                                                        \"first_author_lastname\": \"Fill me in please!\",\n",
    "                                                        \"published_year\": \"Fill me in please!\",\n",
    "                                                        \"journal\": \"Fill me in please!\",\n",
    "                                                        \"link\": \"Fill me in please!\",\n",
    "                                                        \"full_citation\": \"Fill me in please!\"\n",
    "                                                       }})\n",
    "        all_entries_dict[entry.name] = entry\n",
    "    catalog = Catalog(name = cat_name, description = catalog_description, metadata = catalog_metadata_combined, entries = all_entries_dict)\n",
    "    return catalog\n",
    "\n",
    "def combine_catalogs(old_cat_path, new_cat, attrs_priority_dict={\"name\": \"old\",\n",
    "                                                                 \"description\": \"old\",\n",
    "                                                                 \"metadata\": \"old\",\n",
    "                                                                 }):\n",
    "    assert(all([key in attrs_priority_dict for key in [\"name\", \"description\", \"metadata\"]]))\n",
    "\n",
    "    old_cat = IntakeCatalogWrapper(old_cat_path).catalog\n",
    "    \n",
    "    #remove old catalog entry file does not exist anymore\n",
    "    old_entries_dict = {key:entry for key, entry in old_cat._entries.items() if (has_error(test_fail, f = old_cat[key].discover, contains = \"No such file or directory:\", args =None))}\n",
    "    \n",
    "    #add entry if old catalog doesn't have it, or `description` field was default\n",
    "    new_entries_dict = {key:entry for key, entry in new_cat._entries.items() if\\\n",
    "                        (((key not in old_entries_dict)\\\n",
    "                        or (entry.describe()[\"description\"] == \"Fill me in please!\"))\\\n",
    "                        or (entry.metadata[\"citation\"][\"full_citation\"] == \"Fill me in please!\")\n",
    "                        )}\n",
    "    \n",
    "    print(f\"Added {len(new_entries_dict.keys())} new entries: {list(new_entries_dict.keys())}\")\n",
    "    combined_entries_dict = {**old_entries_dict, **new_entries_dict}\n",
    "    \n",
    "    extra_cat_kwargs = {}\n",
    "    for key, item in attrs_priority_dict.items():\n",
    "        if item == \"old\":\n",
    "            curr_cat = old_cat\n",
    "        elif item == \"new\":\n",
    "            curr_cat = new_cat\n",
    "            \n",
    "        extra_cat_kwargs[key] = curr_cat.__dict__.get(\"metadata\")\n",
    "\n",
    "    combined_cat = Catalog.from_dict(combined_entries_dict, **extra_cat_kwargs)\n",
    "    return combined_cat\n",
    "    \n",
    "def handle_file_name_collision(path: Path, mode: Literal[\"error\", \"overwrite\", \"append\"], content, append_func= None):\n",
    "    if mode == \"error\":\n",
    "        raise ValueError(f\"{path.as_posix()} is an existing file and current mode is `error`. please remove or switch to `append` or `overwrite` mode\")\n",
    "    elif mode == \"overwrite\":\n",
    "        return_content = content\n",
    "        # if write_func:\n",
    "        #     write_func(path, content)\n",
    "        # else:\n",
    "        #     raise ValueError(\"Mode is `overwite`, need to provide `write_func`\")\n",
    "    elif mode == \"append\":\n",
    "        if append_func:\n",
    "            return_content = append_func(path, content)\n",
    "            #write_func(path, combined_content)\n",
    "            \n",
    "        else:\n",
    "            raise ValueError(\"Mode is `append`, need to provide both `append_func`\")\n",
    "    else:\n",
    "        raise KeyError(f\"cannot proceed in mode {mode}\")\n",
    "    return return_content\n",
    "\n",
    "def write_catalog_content(path,cat):\n",
    "    with open(path, \"w\") as file:\n",
    "        file.write(cat.serialize())\n",
    "    \n",
    "    \n",
    "\n",
    "def safe_write_data_catalog(catalog, cat_path, same_name_cat_found: Literal[\"error\", \"overwrite\", \"append\"] = \"error\", **kwargs):\n",
    "    abs_path = Path(cat_path).absolute()\n",
    "    if abs_path.is_file():\n",
    "        print(f\"Found existing file at {abs_path}. Mode is `{same_name_cat_found}`\")\n",
    "        catalog = handle_file_name_collision(abs_path, mode = same_name_cat_found, content = catalog, append_func = combine_catalogs)\n",
    "    write_catalog_content(cat_path, catalog)\n",
    "    print(f\"Finished writing new catalog at {cat_path}\")"
   ]
  },
  {
   "cell_type": "code",
   "execution_count": null,
   "id": "8347daf8-3636-489b-abe8-12c36d9c1adc",
   "metadata": {},
   "outputs": [],
   "source": [
    "test_hg19_HiC_database_path = \"/Users/ahoang/Documents/Work/webapp/HIC_database/hg19/\"\n",
    "test_hg38_HiC_database_path = \"/Users/ahoang/Documents/Work/webapp/HIC_database/hg38/\""
   ]
  },
  {
   "cell_type": "code",
   "execution_count": null,
   "id": "b3e33f2f-6666-4984-ac86-eed7a076dcf6",
   "metadata": {},
   "outputs": [
    {
     "data": {
      "text/plain": [
       "{'name': 'PLAC_hg38_microglia',\n",
       " 'container': 'dataframe',\n",
       " 'plugin': ['csv'],\n",
       " 'driver': ['csv'],\n",
       " 'description': 'Fill me in please!',\n",
       " 'direct_access': True,\n",
       " 'user_parameters': [],\n",
       " 'metadata': {},\n",
       " 'args': {'urlpath': '/Users/ahoang/Documents/Work/webapp/HIC_database/hg38/PLAC_hg38_microglia'}}"
      ]
     },
     "execution_count": null,
     "metadata": {},
     "output_type": "execute_result"
    }
   ],
   "source": [
    "test_entry = LocalCatalogEntry(name = list(Path(test_hg38_HiC_database_path).glob(\"*hg38*\"))[0].stem, driver = \"csv\", args = {\"urlpath\": list(Path(test_hg38_HiC_database_path).glob(\"*hg38*\"))[0].as_posix()}, description = \"Fill me in please!\")\n",
    "test_entry.describe()"
   ]
  },
  {
   "cell_type": "code",
   "execution_count": null,
   "id": "33b05cbc-ce8e-4639-8451-5aef8f81cab4",
   "metadata": {},
   "outputs": [
    {
     "data": {
      "application/yaml": "HiC_database_generated:\n  args:\n    entries:\n      PCHIC_Geschwind_NeuN+_hg38: !!python/object:intake.catalog.local.LocalCatalogEntry\n        args: []\n        cls: intake.catalog.local.LocalCatalogEntry\n        kwargs:\n          name: PCHIC_Geschwind_NeuN+_hg38\n          description: Fill me in please!\n          driver: csv\n          args:\n            csv_kwargs: &id001\n              sep: \"\\t\"\n            urlpath: /Users/ahoang/Documents/Work/webapp/HIC_database/hg38/PCHIC_Geschwind_NeuN+_hg38\n          metadata:\n            citation:\n              citation: Fill me in please!\n              first_author_lastname: Fill me in please!\n              journal: Fill me in please!\n              link: Fill me in please!\n              paper_name: Fill me in please!\n              published_year: Fill me in please!\n      PCHIC_Geschwind_NeuN-_hg38: !!python/object:intake.catalog.local.LocalCatalogEntry\n        args: []\n        cls: intake.catalog.local.LocalCatalogEntry\n        kwargs:\n          name: PCHIC_Geschwind_NeuN-_hg38\n          description: Fill me in please!\n          driver: csv\n          args:\n            csv_kwargs: *id001\n            urlpath: /Users/ahoang/Documents/Work/webapp/HIC_database/hg38/PCHIC_Geschwind_NeuN-_hg38\n          metadata:\n            citation:\n              citation: Fill me in please!\n              first_author_lastname: Fill me in please!\n              journal: Fill me in please!\n              link: Fill me in please!\n              paper_name: Fill me in please!\n              published_year: Fill me in please!\n      PCHIC_per_tissue_Dorsolateral_Prefrontal_Cortex_hg38: !!python/object:intake.catalog.local.LocalCatalogEntry\n        args: []\n        cls: intake.catalog.local.LocalCatalogEntry\n        kwargs:\n          name: PCHIC_per_tissue_Dorsolateral_Prefrontal_Cortex_hg38\n          description: Fill me in please!\n          driver: csv\n          args:\n            csv_kwargs: *id001\n            urlpath: /Users/ahoang/Documents/Work/webapp/HIC_database/hg38/PCHIC_per_tissue_Dorsolateral_Prefrontal_Cortex_hg38\n          metadata:\n            citation:\n              citation: Fill me in please!\n              first_author_lastname: Fill me in please!\n              journal: Fill me in please!\n              link: Fill me in please!\n              paper_name: Fill me in please!\n              published_year: Fill me in please!\n      PCHIC_per_tissue_Hippocampus_hg38: !!python/object:intake.catalog.local.LocalCatalogEntry\n        args: []\n        cls: intake.catalog.local.LocalCatalogEntry\n        kwargs:\n          name: PCHIC_per_tissue_Hippocampus_hg38\n          description: Fill me in please!\n          driver: csv\n          args:\n            csv_kwargs: *id001\n            urlpath: /Users/ahoang/Documents/Work/webapp/HIC_database/hg38/PCHIC_per_tissue_Hippocampus_hg38\n          metadata:\n            citation:\n              citation: Fill me in please!\n              first_author_lastname: Fill me in please!\n              journal: Fill me in please!\n              link: Fill me in please!\n              paper_name: Fill me in please!\n              published_year: Fill me in please!\n      PCHIC_per_tissue_Neural_Progenitor_Cell_hg38: !!python/object:intake.catalog.local.LocalCatalogEntry\n        args: []\n        cls: intake.catalog.local.LocalCatalogEntry\n        kwargs:\n          name: PCHIC_per_tissue_Neural_Progenitor_Cell_hg38\n          description: Fill me in please!\n          driver: csv\n          args:\n            csv_kwargs: *id001\n            urlpath: /Users/ahoang/Documents/Work/webapp/HIC_database/hg38/PCHIC_per_tissue_Neural_Progenitor_Cell_hg38\n          metadata:\n            citation:\n              citation: Fill me in please!\n              first_author_lastname: Fill me in please!\n              journal: Fill me in please!\n              link: Fill me in please!\n              paper_name: Fill me in please!\n              published_year: Fill me in please!\n      PLAC_hg38_microglia: !!python/object:intake.catalog.local.LocalCatalogEntry\n        args: []\n        cls: intake.catalog.local.LocalCatalogEntry\n        kwargs:\n          name: PLAC_hg38_microglia\n          description: Fill me in please!\n          driver: csv\n          args:\n            csv_kwargs: *id001\n            urlpath: /Users/ahoang/Documents/Work/webapp/HIC_database/hg38/PLAC_hg38_microglia\n          metadata:\n            citation:\n              citation: Fill me in please!\n              first_author_lastname: Fill me in please!\n              journal: Fill me in please!\n              link: Fill me in please!\n              paper_name: Fill me in please!\n              published_year: Fill me in please!\n    name: HiC_database_generated\n  description: ''\n  driver: intake.catalog.base.Catalog\n  metadata:\n    data_types: []\n    version: 1\n",
      "text/plain": [
       "HiC_database_generated:\n",
       "  args:\n",
       "    entries:\n",
       "      PCHIC_Geschwind_NeuN+_hg38: !!python/object:intake.catalog.local.LocalCatalogEntry\n",
       "        args: []\n",
       "        cls: intake.catalog.local.LocalCatalogEntry\n",
       "        kwargs:\n",
       "          name: PCHIC_Geschwind_NeuN+_hg38\n",
       "          description: Fill me in please!\n",
       "          driver: csv\n",
       "          args:\n",
       "            csv_kwargs: &id001\n",
       "              sep: \"\\t\"\n",
       "            urlpath: /Users/ahoang/Documents/Work/webapp/HIC_database/hg38/PCHIC_Geschwind_NeuN+_hg38\n",
       "          metadata:\n",
       "            citation:\n",
       "              citation: Fill me in please!\n",
       "              first_author_lastname: Fill me in please!\n",
       "              journal: Fill me in please!\n",
       "              link: Fill me in please!\n",
       "              paper_name: Fill me in please!\n",
       "              published_year: Fill me in please!\n",
       "      PCHIC_Geschwind_NeuN-_hg38: !!python/object:intake.catalog.local.LocalCatalogEntry\n",
       "        args: []\n",
       "        cls: intake.catalog.local.LocalCatalogEntry\n",
       "        kwargs:\n",
       "          name: PCHIC_Geschwind_NeuN-_hg38\n",
       "          description: Fill me in please!\n",
       "          driver: csv\n",
       "          args:\n",
       "            csv_kwargs: *id001\n",
       "            urlpath: /Users/ahoang/Documents/Work/webapp/HIC_database/hg38/PCHIC_Geschwind_NeuN-_hg38\n",
       "          metadata:\n",
       "            citation:\n",
       "              citation: Fill me in please!\n",
       "              first_author_lastname: Fill me in please!\n",
       "              journal: Fill me in please!\n",
       "              link: Fill me in please!\n",
       "              paper_name: Fill me in please!\n",
       "              published_year: Fill me in please!\n",
       "      PCHIC_per_tissue_Dorsolateral_Prefrontal_Cortex_hg38: !!python/object:intake.catalog.local.LocalCatalogEntry\n",
       "        args: []\n",
       "        cls: intake.catalog.local.LocalCatalogEntry\n",
       "        kwargs:\n",
       "          name: PCHIC_per_tissue_Dorsolateral_Prefrontal_Cortex_hg38\n",
       "          description: Fill me in please!\n",
       "          driver: csv\n",
       "          args:\n",
       "            csv_kwargs: *id001\n",
       "            urlpath: /Users/ahoang/Documents/Work/webapp/HIC_database/hg38/PCHIC_per_tissue_Dorsolateral_Prefrontal_Cortex_hg38\n",
       "          metadata:\n",
       "            citation:\n",
       "              citation: Fill me in please!\n",
       "              first_author_lastname: Fill me in please!\n",
       "              journal: Fill me in please!\n",
       "              link: Fill me in please!\n",
       "              paper_name: Fill me in please!\n",
       "              published_year: Fill me in please!\n",
       "      PCHIC_per_tissue_Hippocampus_hg38: !!python/object:intake.catalog.local.LocalCatalogEntry\n",
       "        args: []\n",
       "        cls: intake.catalog.local.LocalCatalogEntry\n",
       "        kwargs:\n",
       "          name: PCHIC_per_tissue_Hippocampus_hg38\n",
       "          description: Fill me in please!\n",
       "          driver: csv\n",
       "          args:\n",
       "            csv_kwargs: *id001\n",
       "            urlpath: /Users/ahoang/Documents/Work/webapp/HIC_database/hg38/PCHIC_per_tissue_Hippocampus_hg38\n",
       "          metadata:\n",
       "            citation:\n",
       "              citation: Fill me in please!\n",
       "              first_author_lastname: Fill me in please!\n",
       "              journal: Fill me in please!\n",
       "              link: Fill me in please!\n",
       "              paper_name: Fill me in please!\n",
       "              published_year: Fill me in please!\n",
       "      PCHIC_per_tissue_Neural_Progenitor_Cell_hg38: !!python/object:intake.catalog.local.LocalCatalogEntry\n",
       "        args: []\n",
       "        cls: intake.catalog.local.LocalCatalogEntry\n",
       "        kwargs:\n",
       "          name: PCHIC_per_tissue_Neural_Progenitor_Cell_hg38\n",
       "          description: Fill me in please!\n",
       "          driver: csv\n",
       "          args:\n",
       "            csv_kwargs: *id001\n",
       "            urlpath: /Users/ahoang/Documents/Work/webapp/HIC_database/hg38/PCHIC_per_tissue_Neural_Progenitor_Cell_hg38\n",
       "          metadata:\n",
       "            citation:\n",
       "              citation: Fill me in please!\n",
       "              first_author_lastname: Fill me in please!\n",
       "              journal: Fill me in please!\n",
       "              link: Fill me in please!\n",
       "              paper_name: Fill me in please!\n",
       "              published_year: Fill me in please!\n",
       "      PLAC_hg38_microglia: !!python/object:intake.catalog.local.LocalCatalogEntry\n",
       "        args: []\n",
       "        cls: intake.catalog.local.LocalCatalogEntry\n",
       "        kwargs:\n",
       "          name: PLAC_hg38_microglia\n",
       "          description: Fill me in please!\n",
       "          driver: csv\n",
       "          args:\n",
       "            csv_kwargs: *id001\n",
       "            urlpath: /Users/ahoang/Documents/Work/webapp/HIC_database/hg38/PLAC_hg38_microglia\n",
       "          metadata:\n",
       "            citation:\n",
       "              citation: Fill me in please!\n",
       "              first_author_lastname: Fill me in please!\n",
       "              journal: Fill me in please!\n",
       "              link: Fill me in please!\n",
       "              paper_name: Fill me in please!\n",
       "              published_year: Fill me in please!\n",
       "    name: HiC_database_generated\n",
       "  description: ''\n",
       "  driver: intake.catalog.base.Catalog\n",
       "  metadata:\n",
       "    data_types: []\n",
       "    version: 1\n"
      ]
     },
     "metadata": {
      "application/json": {
       "root": "HiC_database_generated"
      }
     },
     "output_type": "display_data"
    }
   ],
   "source": [
    "test_data_catalog = generate_data_catalog(path = test_hg38_HiC_database_path, glob_string= \"*hg38*\", catalog_name = \"HiC_database_generated\")\n",
    "test_data_catalog"
   ]
  },
  {
   "cell_type": "code",
   "execution_count": null,
   "id": "6a6543e5-e6e1-468e-a0aa-4669cb798c33",
   "metadata": {},
   "outputs": [
    {
     "name": "stdout",
     "output_type": "stream",
     "text": [
      "Finished writing new catalog at test.yaml\n"
     ]
    }
   ],
   "source": [
    "!rm -rf test.yaml\n",
    "safe_write_data_catalog(catalog = test_data_catalog, cat_path = \"test.yaml\", catalog_name = \"HiC_database_generated\")"
   ]
  },
  {
   "cell_type": "markdown",
   "id": "d536102d-c88e-4ce3-9a56-5f540cc1b7a0",
   "metadata": {},
   "source": [
    "#### Test name collision handling"
   ]
  },
  {
   "cell_type": "code",
   "execution_count": null,
   "id": "70237f68-f4dc-4519-9e3b-c32140214bee",
   "metadata": {},
   "outputs": [
    {
     "name": "stdout",
     "output_type": "stream",
     "text": [
      "Found existing file at /Users/ahoang/Documents/Work/webapp/lab-central-webapp/notebooks/package/ChIP_peaks_merge/test.yaml. Mode is `error`\n"
     ]
    },
    {
     "ename": "ValueError",
     "evalue": "/Users/ahoang/Documents/Work/webapp/lab-central-webapp/notebooks/package/ChIP_peaks_merge/test.yaml is an existing file and current mode is `error`. please remove or switch to `append` or `overwrite` mode",
     "output_type": "error",
     "traceback": [
      "\u001b[0;31m---------------------------------------------------------------------------\u001b[0m",
      "\u001b[0;31mValueError\u001b[0m                                Traceback (most recent call last)",
      "Cell \u001b[0;32mIn[25], line 1\u001b[0m\n\u001b[0;32m----> 1\u001b[0m \u001b[43msafe_write_data_catalog\u001b[49m\u001b[43m(\u001b[49m\u001b[43mcatalog\u001b[49m\u001b[43m \u001b[49m\u001b[38;5;241;43m=\u001b[39;49m\u001b[43m \u001b[49m\u001b[43mtest_data_catalog\u001b[49m\u001b[43m,\u001b[49m\u001b[43m \u001b[49m\u001b[43mcat_path\u001b[49m\u001b[43m \u001b[49m\u001b[38;5;241;43m=\u001b[39;49m\u001b[43m \u001b[49m\u001b[38;5;124;43m\"\u001b[39;49m\u001b[38;5;124;43mtest.yaml\u001b[39;49m\u001b[38;5;124;43m\"\u001b[39;49m\u001b[43m,\u001b[49m\u001b[43m \u001b[49m\u001b[43mcatalog_name\u001b[49m\u001b[43m \u001b[49m\u001b[38;5;241;43m=\u001b[39;49m\u001b[43m \u001b[49m\u001b[38;5;124;43m\"\u001b[39;49m\u001b[38;5;124;43mHiC_database_generated\u001b[39;49m\u001b[38;5;124;43m\"\u001b[39;49m\u001b[43m)\u001b[49m\n",
      "Cell \u001b[0;32mIn[22], line 87\u001b[0m, in \u001b[0;36msafe_write_data_catalog\u001b[0;34m(catalog, cat_path, same_name_cat_found, **kwargs)\u001b[0m\n\u001b[1;32m     85\u001b[0m \u001b[38;5;28;01mif\u001b[39;00m abs_path\u001b[38;5;241m.\u001b[39mis_file():\n\u001b[1;32m     86\u001b[0m     \u001b[38;5;28mprint\u001b[39m(\u001b[38;5;124mf\u001b[39m\u001b[38;5;124m\"\u001b[39m\u001b[38;5;124mFound existing file at \u001b[39m\u001b[38;5;132;01m{\u001b[39;00mabs_path\u001b[38;5;132;01m}\u001b[39;00m\u001b[38;5;124m. Mode is `\u001b[39m\u001b[38;5;132;01m{\u001b[39;00msame_name_cat_found\u001b[38;5;132;01m}\u001b[39;00m\u001b[38;5;124m`\u001b[39m\u001b[38;5;124m\"\u001b[39m)\n\u001b[0;32m---> 87\u001b[0m     catalog \u001b[38;5;241m=\u001b[39m \u001b[43mhandle_file_name_collision\u001b[49m\u001b[43m(\u001b[49m\u001b[43mabs_path\u001b[49m\u001b[43m,\u001b[49m\u001b[43m \u001b[49m\u001b[43mmode\u001b[49m\u001b[43m \u001b[49m\u001b[38;5;241;43m=\u001b[39;49m\u001b[43m \u001b[49m\u001b[43msame_name_cat_found\u001b[49m\u001b[43m,\u001b[49m\u001b[43m \u001b[49m\u001b[43mcontent\u001b[49m\u001b[43m \u001b[49m\u001b[38;5;241;43m=\u001b[39;49m\u001b[43m \u001b[49m\u001b[43mcatalog\u001b[49m\u001b[43m,\u001b[49m\u001b[43m \u001b[49m\u001b[43mappend_func\u001b[49m\u001b[43m \u001b[49m\u001b[38;5;241;43m=\u001b[39;49m\u001b[43m \u001b[49m\u001b[43mcombine_catalogs\u001b[49m\u001b[43m)\u001b[49m\n\u001b[1;32m     88\u001b[0m write_catalog_content(cat_path, catalog)\n\u001b[1;32m     89\u001b[0m \u001b[38;5;28mprint\u001b[39m(\u001b[38;5;124mf\u001b[39m\u001b[38;5;124m\"\u001b[39m\u001b[38;5;124mFinished writing new catalog at \u001b[39m\u001b[38;5;132;01m{\u001b[39;00mcat_path\u001b[38;5;132;01m}\u001b[39;00m\u001b[38;5;124m\"\u001b[39m)\n",
      "Cell \u001b[0;32mIn[22], line 59\u001b[0m, in \u001b[0;36mhandle_file_name_collision\u001b[0;34m(path, mode, content, append_func)\u001b[0m\n\u001b[1;32m     57\u001b[0m \u001b[38;5;28;01mdef\u001b[39;00m \u001b[38;5;21mhandle_file_name_collision\u001b[39m(path: Path, mode: Literal[\u001b[38;5;124m\"\u001b[39m\u001b[38;5;124merror\u001b[39m\u001b[38;5;124m\"\u001b[39m, \u001b[38;5;124m\"\u001b[39m\u001b[38;5;124moverwrite\u001b[39m\u001b[38;5;124m\"\u001b[39m, \u001b[38;5;124m\"\u001b[39m\u001b[38;5;124mappend\u001b[39m\u001b[38;5;124m\"\u001b[39m], content, append_func\u001b[38;5;241m=\u001b[39m \u001b[38;5;28;01mNone\u001b[39;00m):\n\u001b[1;32m     58\u001b[0m     \u001b[38;5;28;01mif\u001b[39;00m mode \u001b[38;5;241m==\u001b[39m \u001b[38;5;124m\"\u001b[39m\u001b[38;5;124merror\u001b[39m\u001b[38;5;124m\"\u001b[39m:\n\u001b[0;32m---> 59\u001b[0m         \u001b[38;5;28;01mraise\u001b[39;00m \u001b[38;5;167;01mValueError\u001b[39;00m(\u001b[38;5;124mf\u001b[39m\u001b[38;5;124m\"\u001b[39m\u001b[38;5;132;01m{\u001b[39;00mpath\u001b[38;5;241m.\u001b[39mas_posix()\u001b[38;5;132;01m}\u001b[39;00m\u001b[38;5;124m is an existing file and current mode is `error`. please remove or switch to `append` or `overwrite` mode\u001b[39m\u001b[38;5;124m\"\u001b[39m)\n\u001b[1;32m     60\u001b[0m     \u001b[38;5;28;01melif\u001b[39;00m mode \u001b[38;5;241m==\u001b[39m \u001b[38;5;124m\"\u001b[39m\u001b[38;5;124moverwrite\u001b[39m\u001b[38;5;124m\"\u001b[39m:\n\u001b[1;32m     61\u001b[0m         return_content \u001b[38;5;241m=\u001b[39m content\n",
      "\u001b[0;31mValueError\u001b[0m: /Users/ahoang/Documents/Work/webapp/lab-central-webapp/notebooks/package/ChIP_peaks_merge/test.yaml is an existing file and current mode is `error`. please remove or switch to `append` or `overwrite` mode"
     ]
    }
   ],
   "source": [
    "safe_write_data_catalog(catalog = test_data_catalog, cat_path = \"test.yaml\", catalog_name = \"HiC_database_generated\")"
   ]
  },
  {
   "cell_type": "code",
   "execution_count": null,
   "id": "ffa8ae7e-a22a-47b4-9ac0-fb10ca8140ea",
   "metadata": {},
   "outputs": [
    {
     "name": "stdout",
     "output_type": "stream",
     "text": [
      "Found existing file at /Users/ahoang/Documents/Work/webapp/lab-central-webapp/notebooks/package/ChIP_peaks_merge/test.yaml. Mode is `append`\n",
      "Added 6 new entries: ['PLAC_hg38_microglia', 'PCHIC_per_tissue_Neural_Progenitor_Cell_hg38', 'PCHIC_Geschwind_NeuN+_hg38', 'PCHIC_Geschwind_NeuN-_hg38', 'PCHIC_per_tissue_Dorsolateral_Prefrontal_Cortex_hg38', 'PCHIC_per_tissue_Hippocampus_hg38']\n",
      "Finished writing new catalog at test.yaml\n"
     ]
    }
   ],
   "source": [
    "safe_write_data_catalog(catalog = test_data_catalog,\n",
    "                        cat_path = \"test.yaml\",\n",
    "                        catalog_name = \"HiC_database_generated\", \n",
    "                        same_name_cat_found= \"append\")"
   ]
  },
  {
   "cell_type": "code",
   "execution_count": null,
   "id": "f1d6a3da-e713-4da3-b935-46fc2c48282b",
   "metadata": {},
   "outputs": [
    {
     "name": "stdout",
     "output_type": "stream",
     "text": [
      "Found existing file at /Users/ahoang/Documents/Work/webapp/lab-central-webapp/notebooks/package/ChIP_peaks_merge/test.yaml. Mode is `overwrite`\n",
      "Finished writing new catalog at test.yaml\n"
     ]
    }
   ],
   "source": [
    "safe_write_data_catalog(catalog = test_data_catalog,\n",
    "                        cat_path = \"test.yaml\",\n",
    "                        catalog_name = \"HiC_database_generated\", \n",
    "                        same_name_cat_found= \"overwrite\")"
   ]
  }
 ],
 "metadata": {
  "kernelspec": {
   "display_name": "Python 3 (ipykernel)",
   "language": "python",
   "name": "python3"
  }
 },
 "nbformat": 4,
 "nbformat_minor": 5
}
